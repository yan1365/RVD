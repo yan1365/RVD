{
 "cells": [
  {
   "cell_type": "code",
   "execution_count": null,
   "id": "0e206757",
   "metadata": {},
   "outputs": [],
   "source": [
    "import os\n",
    "import pandas as pd \n",
    "import numpy as np \n",
    "import sys\n",
    "import glob\n",
    "from Bio import SeqIO\n",
    "import re"
   ]
  },
  {
   "cell_type": "code",
   "execution_count": null,
   "id": "cfff6486",
   "metadata": {},
   "outputs": [],
   "source": [
    "os.chdir('/fs/ess/PAS0439/MING/virome/amg_analysis/dram_annotation')"
   ]
  },
  {
   "cell_type": "code",
   "execution_count": null,
   "id": "b8714d1e",
   "metadata": {},
   "outputs": [],
   "source": [
    "dram_res = glob.glob('**/annotations.tsv' ,recursive= True)"
   ]
  },
  {
   "cell_type": "code",
   "execution_count": null,
   "id": "1f41f9b0",
   "metadata": {},
   "outputs": [],
   "source": [
    "dram_df = []\n",
    "for dram in dram_res:\n",
    "    df = pd.read_csv(dram, sep = '\\t')\n",
    "    dram_df.append(df)"
   ]
  },
  {
   "cell_type": "code",
   "execution_count": null,
   "id": "6bb20f16",
   "metadata": {},
   "outputs": [],
   "source": [
    "dram_res = pd.concat(dram_df)[['scaffold', 'gene_position', 'kegg_hit', 'cazy_hits', 'viral_hit', 'pfam_hits', 'vogdb_hit', 'amg_flags']]"
   ]
  },
  {
   "cell_type": "code",
   "execution_count": null,
   "id": "6f4f0def",
   "metadata": {},
   "outputs": [],
   "source": [
    "checkv_contigs = list(np.loadtxt('amg_contigs.txt' , dtype = 'str'))"
   ]
  },
  {
   "cell_type": "code",
   "execution_count": null,
   "id": "b1629db4",
   "metadata": {},
   "outputs": [],
   "source": [
    "checkv_contigs_renamed = [f.replace('>', '').replace('||', '__') for f in checkv_res]"
   ]
  },
  {
   "cell_type": "code",
   "execution_count": null,
   "id": "19130a11",
   "metadata": {},
   "outputs": [],
   "source": [
    "def rename(x):\n",
    "    renamed = re.sub('-cat.*', '', x)\n",
    "    return renamed\n",
    "dram_res.scaffold = dram_res.scaffold.apply(rename)"
   ]
  },
  {
   "cell_type": "code",
   "execution_count": null,
   "id": "5dc88a36",
   "metadata": {},
   "outputs": [],
   "source": [
    "dram_res_manual_check = dram_res[dram_res.scaffold.isin(checkv_contigs_renamed)]"
   ]
  },
  {
   "cell_type": "code",
   "execution_count": null,
   "id": "7ae99fc4",
   "metadata": {},
   "outputs": [],
   "source": [
    "check_list = list(dram_res_manual_check['scaffold'])"
   ]
  },
  {
   "cell_type": "code",
   "execution_count": null,
   "id": "d475cba1",
   "metadata": {},
   "outputs": [],
   "source": [
    "checkv_res = pd.read_csv('checkv_genomic_island_checkv_res/quality_summary.tsv', sep ='\\t')[['contig_id', 'contig_length']]\n",
    "checkv_res.contig_id = checkv_res.contig_id.apply(lambda x: x.replace('||', '__'))"
   ]
  },
  {
   "cell_type": "code",
   "execution_count": null,
   "id": "dd69e3c0",
   "metadata": {},
   "outputs": [],
   "source": [
    "individual_check = pd.merge(checkv_res, dram_res_manual_check, left_on = 'contig_id', right_on = 'scaffold')"
   ]
  },
  {
   "cell_type": "code",
   "execution_count": null,
   "id": "5ce66079",
   "metadata": {},
   "outputs": [],
   "source": [
    "individual_check.drop('scaffold', inplace = True)"
   ]
  },
  {
   "cell_type": "code",
   "execution_count": null,
   "id": "727aad51",
   "metadata": {},
   "outputs": [],
   "source": [
    "dram_res_manual_check.to_csv('amg_contig_individual_check.tsv', sep = '\\t', index = None)"
   ]
  },
  {
   "cell_type": "code",
   "execution_count": null,
   "id": "c8c0dee8",
   "metadata": {},
   "outputs": [],
   "source": [
    "check_list = list(set(individual_check['contig_id']))\n",
    "check_list[0]\n",
    "individual_check.drop('scaffold',axis = 1,  inplace = True)"
   ]
  },
  {
   "cell_type": "code",
   "execution_count": null,
   "id": "41fa5c24",
   "metadata": {},
   "outputs": [],
   "source": [
    "individual_check.to_csv('amg_contig_individual_check.tsv', sep = '\\t', index = None)"
   ]
  }
 ],
 "metadata": {
  "kernelspec": {
   "display_name": "MYENV [/fs/ess/PAS0439/MING/conda/MYENV]",
   "language": "python",
   "name": "conda_myenv"
  },
  "language_info": {
   "codemirror_mode": {
    "name": "ipython",
    "version": 3
   },
   "file_extension": ".py",
   "mimetype": "text/x-python",
   "name": "python",
   "nbconvert_exporter": "python",
   "pygments_lexer": "ipython3",
   "version": "3.10.4"
  }
 },
 "nbformat": 4,
 "nbformat_minor": 5
}
