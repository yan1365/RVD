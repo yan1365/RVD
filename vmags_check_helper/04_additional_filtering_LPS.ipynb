{
 "cells": [
  {
   "cell_type": "code",
   "execution_count": null,
   "id": "0c2d811e",
   "metadata": {},
   "outputs": [],
   "source": [
    "import os\n",
    "import pandas as pd \n",
    "import numpy as np \n",
    "import sys\n",
    "import glob\n",
    "from Bio import SeqIO\n",
    "import re"
   ]
  },
  {
   "cell_type": "code",
   "execution_count": null,
   "id": "1d6fae57",
   "metadata": {},
   "outputs": [],
   "source": [
    "os.chdir('/fs/ess/PAS0439/MING/virome/amg_analysis/dram_annotation')"
   ]
  },
  {
   "cell_type": "code",
   "execution_count": null,
   "id": "322510fd",
   "metadata": {},
   "outputs": [],
   "source": [
    "amg = pd.read_csv('amg_contig_individual_check.tsv', sep = '\\t')"
   ]
  },
  {
   "cell_type": "code",
   "execution_count": null,
   "id": "bcd393db",
   "metadata": {},
   "outputs": [],
   "source": [
    "amg.contig_id = amg.contig_id.apply(lambda x: x.replace('__', '||'))"
   ]
  },
  {
   "cell_type": "code",
   "execution_count": null,
   "id": "9ae3ce37",
   "metadata": {},
   "outputs": [],
   "source": [
    "filtering_contigs = list(np.loadtxt('aj_filtered_contigs.txt', dtype='str'))"
   ]
  },
  {
   "cell_type": "code",
   "execution_count": null,
   "id": "69c8efed",
   "metadata": {},
   "outputs": [],
   "source": [
    "amg_filtering = amg[amg.contig_id.isin(filtering_contigs)]"
   ]
  },
  {
   "cell_type": "code",
   "execution_count": null,
   "id": "5ecba7ac",
   "metadata": {},
   "outputs": [],
   "source": [
    "amg_filtering.fillna('', inplace=True)"
   ]
  },
  {
   "cell_type": "code",
   "execution_count": null,
   "id": "271dcfbf",
   "metadata": {},
   "outputs": [],
   "source": [
    "amg_filtering.loc[:, 'hits'] = amg_filtering['kegg_hit'] + amg_filtering['cazy_hits']  + amg_filtering['viral_hit']  + amg_filtering['pfam_hits'] + amg_filtering['vogdb_hit']"
   ]
  },
  {
   "cell_type": "code",
   "execution_count": null,
   "id": "1908bcb7",
   "metadata": {},
   "outputs": [],
   "source": [
    "#pd.set_option('display.max_rows', 700)\n",
    "#gh_df = amg_filtering[amg_filtering.hits.str.contains('GH\\d', regex=True)]\n",
    "#gh_df_filter_virus = gh_df[~gh_df.amg_flags.str.contains('A|P')]\n",
    "#gh_df_filter_virus_CBM_GH10_16 = gh_df_filter_virus[~gh_df_filter_virus.hits.str.contains('CBM|GH16|GH10 ')].query('contig_length < 200000')\n",
    "#gh_containing= list(set(gh_df_filter_virus_CBM_GH10_16['contig_id']))"
   ]
  },
  {
   "cell_type": "code",
   "execution_count": null,
   "id": "561cda51",
   "metadata": {},
   "outputs": [],
   "source": [
    "LPS = ['carbohydrate kinase', 'carbohydrate-kinase', 'glycosyltransferase family 11 ', 'glycosyltransferase family 25', 'glycosyl transferase family 11 ', 'glycosyl transferase family 25', 'Glycosyltransferase family 11 ', 'Glycosyltransferase family 25', 'GT11 ', 'GT25', 'nucleotide sugar epimerase', 'nucleotide sugar-epimerase', 'nucleotide-sugar epimerase', 'nucleotide-sugar-epimerase', 'nucleotidyltransferase', 'nucleotidyl transferase', 'nucleotidyl-transferase', 'plasmid stability', 'endonuclease']"
   ]
  },
  {
   "cell_type": "code",
   "execution_count": null,
   "id": "b9d07857",
   "metadata": {},
   "outputs": [],
   "source": [
    "def filter_lps():\n",
    "    furthur_check = []\n",
    "    for index, row in amg_filtering.iterrows():\n",
    "        hits = row['hits']\n",
    "        votu = row['contig_id']\n",
    "        if votu in furthur_check:\n",
    "            continue\n",
    "        else:\n",
    "            if hits == '':\n",
    "                continue\n",
    "            else:\n",
    "                for lps in LPS:\n",
    "\n",
    "                    if lps in hits:\n",
    "                        furthur_check.append(votu)\n",
    "                    else:\n",
    "                        continue\n",
    "    \n",
    "    return furthur_check\n",
    "                    "
   ]
  },
  {
   "cell_type": "code",
   "execution_count": null,
   "id": "420fec93",
   "metadata": {},
   "outputs": [],
   "source": [
    "furthur_check = filter_lps()"
   ]
  },
  {
   "cell_type": "code",
   "execution_count": null,
   "id": "564d02e9",
   "metadata": {},
   "outputs": [],
   "source": [
    "with open('/fs/ess/PAS0439/MING/virome/checkv_trimmed_for_dowmstream/AMG/supplemental_material/LPS_containing.txt', 'w') as outfile:\n",
    "    for f in furthur_check:\n",
    "        outfile.write(f + '\\n')"
   ]
  },
  {
   "cell_type": "code",
   "execution_count": null,
   "id": "9711658c",
   "metadata": {},
   "outputs": [],
   "source": [
    "amg_check = amg_filtering[amg_filtering.contig_id.isin(furthur_check)].sort_values('contig_length')"
   ]
  },
  {
   "cell_type": "code",
   "execution_count": null,
   "id": "89072bd6",
   "metadata": {},
   "outputs": [],
   "source": [
    "amg_clean = amg_filtering[~amg_filtering.contig_id.isin(furthur_check)].sort_values('contig_length').reset_index(drop=True)"
   ]
  },
  {
   "cell_type": "code",
   "execution_count": null,
   "id": "151cc97d",
   "metadata": {},
   "outputs": [],
   "source": [
    "amg_clean.to_csv('/fs/ess/PAS0439/MING/virome/checkv_trimmed_for_dowmstream/AMG/supplemental_material/clean_amg_contigs_full_annotation.tsv', sep ='\\t', index=None)"
   ]
  },
  {
   "cell_type": "code",
   "execution_count": null,
   "id": "3b36fd58",
   "metadata": {},
   "outputs": [],
   "source": [
    "pd.set_option('display.max_rows', 900)"
   ]
  },
  {
   "cell_type": "code",
   "execution_count": null,
   "id": "ab2f5cbd",
   "metadata": {},
   "outputs": [],
   "source": [
    "amg_clean_contigs = list(set(amg_clean['contig_id']))"
   ]
  },
  {
   "cell_type": "code",
   "execution_count": null,
   "id": "4c2a5249",
   "metadata": {},
   "outputs": [],
   "source": [
    "with open('/fs/ess/PAS0439/MING/virome/checkv_trimmed_for_dowmstream/AMG/clean_amg_contigs.txt', 'w') as outfile:\n",
    "    for f in amg_clean_contigs:\n",
    "        outfile.write(f + '\\n')"
   ]
  },
  {
   "cell_type": "code",
   "execution_count": null,
   "id": "b2b9a4bd",
   "metadata": {},
   "outputs": [],
   "source": [
    "pd.set_option('display.max_rows', 700)\n",
    "gh_df = amg_clean[amg_clean.hits.str.contains('GH\\d', regex=True)]\n",
    "gh_df_filter_virus = gh_df[~gh_df.amg_flags.str.contains('A|P')]\n",
    "gh_df_filter_virus_CBM = gh_df_filter_virus[~gh_df_filter_virus.hits.str.contains('CBM')]\n",
    "gh_df_filter_virus_CBM\n",
    "#gh_containing= list(set(gh_df_filter_virus_CBM_GH10_16['contig_id']))"
   ]
  },
  {
   "cell_type": "code",
   "execution_count": null,
   "id": "03aa0620",
   "metadata": {},
   "outputs": [],
   "source": []
  }
 ],
 "metadata": {
  "kernelspec": {
   "display_name": "MYENV [/fs/ess/PAS0439/MING/conda/MYENV]",
   "language": "python",
   "name": "conda_myenv"
  },
  "language_info": {
   "codemirror_mode": {
    "name": "ipython",
    "version": 3
   },
   "file_extension": ".py",
   "mimetype": "text/x-python",
   "name": "python",
   "nbconvert_exporter": "python",
   "pygments_lexer": "ipython3",
   "version": "3.10.4"
  }
 },
 "nbformat": 4,
 "nbformat_minor": 5
}
