{
 "cells": [
  {
   "cell_type": "code",
   "execution_count": null,
   "id": "d8c0853e",
   "metadata": {},
   "outputs": [],
   "source": [
    "import os\n",
    "import pandas as pd\n",
    "import numpy as np\n",
    "import glob"
   ]
  },
  {
   "cell_type": "code",
   "execution_count": null,
   "id": "a4076d34",
   "metadata": {},
   "outputs": [],
   "source": [
    "os.chdir('/fs/ess/PAS0439/MING/virome/checkv_res')"
   ]
  },
  {
   "cell_type": "code",
   "execution_count": null,
   "id": "25e7523c",
   "metadata": {},
   "outputs": [],
   "source": [
    "checkv_res = glob.glob(\"**/quality_summary.tsv\", recursive=True)"
   ]
  },
  {
   "cell_type": "code",
   "execution_count": null,
   "id": "694b51ba",
   "metadata": {},
   "outputs": [],
   "source": [
    "df = []\n",
    "for res in checkv_res:\n",
    "    mydf = pd.read_csv(res, sep = '\\t')\n",
    "    df.append(mydf)"
   ]
  },
  {
   "cell_type": "code",
   "execution_count": null,
   "id": "2aa3b4fc",
   "metadata": {},
   "outputs": [],
   "source": [
    "checkv_df = pd.concat(df)\n",
    "checkv_df"
   ]
  },
  {
   "cell_type": "code",
   "execution_count": null,
   "id": "4c849be1",
   "metadata": {},
   "outputs": [],
   "source": [
    "checkv_filter = checkv_df.query('((contig_length > 10000) &( provirus == \"No\")|(proviral_length > 10000) &( provirus == \"Yes\"))').query('checkv_quality == \"Complete\"')#['contig_id']"
   ]
  },
  {
   "cell_type": "code",
   "execution_count": null,
   "id": "d7735550",
   "metadata": {},
   "outputs": [],
   "source": [
    "checkv_filter"
   ]
  },
  {
   "cell_type": "code",
   "execution_count": null,
   "id": "6bd4d508",
   "metadata": {},
   "outputs": [],
   "source": [
    "amg_check_df = pd.read_csv('/fs/ess/PAS0439/MING/virome/AMR_AMG_containing_contigs_manual_check/amg_manual_curation.csv')"
   ]
  },
  {
   "cell_type": "code",
   "execution_count": null,
   "id": "9ca1798b",
   "metadata": {},
   "outputs": [],
   "source": [
    "amg_contigs = amg_check_df['contig']\n",
    "amg_contigs_rename = [f.split('||')[0] for f in amg_contigs]"
   ]
  },
  {
   "cell_type": "code",
   "execution_count": null,
   "id": "4ed11280",
   "metadata": {},
   "outputs": [],
   "source": [
    "len(amg_contigs_rename)"
   ]
  },
  {
   "cell_type": "code",
   "execution_count": null,
   "id": "5bee4fd3",
   "metadata": {},
   "outputs": [],
   "source": [
    "def findoverlap(x):\n",
    "    rows = []\n",
    "    for f in x:\n",
    "        row = checkv_filter[checkv_filter.contig_id.str.contains(f)]\n",
    "        rows.append(row)\n",
    "    df = pd.concat(rows)\n",
    "    return df\n",
    "        "
   ]
  },
  {
   "cell_type": "code",
   "execution_count": null,
   "id": "ea94a047",
   "metadata": {},
   "outputs": [],
   "source": [
    "checkv_res_for_amg = findoverlap(amg_contigs_rename)"
   ]
  },
  {
   "cell_type": "code",
   "execution_count": null,
   "id": "94361ce2",
   "metadata": {},
   "outputs": [],
   "source": [
    "checkv_res_for_amg.sort_values('contig_length', ascending = False)\n",
    "checkv_res_for_amg\n",
    "pd.set_option('display.max_rows', 2000)"
   ]
  },
  {
   "cell_type": "code",
   "execution_count": null,
   "id": "8bc28762",
   "metadata": {},
   "outputs": [],
   "source": [
    "checkv_res_for_amg.sort_values('contig_length', ascending = False)"
   ]
  },
  {
   "cell_type": "code",
   "execution_count": null,
   "id": "accedacf",
   "metadata": {},
   "outputs": [],
   "source": [
    "checkv_filter"
   ]
  },
  {
   "cell_type": "code",
   "execution_count": null,
   "id": "6d10fcfd",
   "metadata": {},
   "outputs": [],
   "source": [
    "checkv_df[checkv_df.contig_id.str.contains('ERR2027900_249634')]"
   ]
  },
  {
   "cell_type": "code",
   "execution_count": null,
   "id": "b77fdbcc",
   "metadata": {},
   "outputs": [],
   "source": [
    "checkv_df.query('provirus == \"Yes\"').query('checkv_quality == \"Complete\"').sort_values('contig_length', ascending = False)"
   ]
  },
  {
   "cell_type": "code",
   "execution_count": null,
   "id": "11a56115",
   "metadata": {},
   "outputs": [],
   "source": [
    "checkv_df.query('checkv_quality == \"Complete\"')"
   ]
  },
  {
   "cell_type": "code",
   "execution_count": null,
   "id": "c5b38838",
   "metadata": {},
   "outputs": [],
   "source": []
  }
 ],
 "metadata": {
  "kernelspec": {
   "display_name": "MYENV [/fs/ess/PAS0439/MING/conda/MYENV]",
   "language": "python",
   "name": "conda_myenv"
  },
  "language_info": {
   "codemirror_mode": {
    "name": "ipython",
    "version": 3
   },
   "file_extension": ".py",
   "mimetype": "text/x-python",
   "name": "python",
   "nbconvert_exporter": "python",
   "pygments_lexer": "ipython3",
   "version": "3.10.4"
  }
 },
 "nbformat": 4,
 "nbformat_minor": 5
}
