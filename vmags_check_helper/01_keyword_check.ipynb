{
 "cells": [
  {
   "cell_type": "code",
   "execution_count": 1,
   "id": "f942e1e2",
   "metadata": {},
   "outputs": [],
   "source": [
    "import os\n",
    "import pandas as pd\n",
    "import numpy as np\n",
    "import glob"
   ]
  },
  {
   "cell_type": "code",
   "execution_count": 2,
   "id": "661ef87a",
   "metadata": {},
   "outputs": [],
   "source": [
    "amg_contigs_for_checking = [f.replace('__', '||') for f in np.loadtxt('/fs/ess/PAS0439/MING/virome/amg_analysis/amg_containing_contigs_curated_vs2.txt', dtype = 'str')]"
   ]
  },
  {
   "cell_type": "code",
   "execution_count": 55,
   "id": "3c7a427d",
   "metadata": {},
   "outputs": [],
   "source": [
    "amr_contigs_for_checking = np.loadtxt('/fs/ess/PAS0439/MING/virome/AMR_AMG_containing_contigs_manual_check/amr_containing_contigs.txt', dtype = 'str')"
   ]
  },
  {
   "cell_type": "code",
   "execution_count": 5,
   "id": "0b981925",
   "metadata": {},
   "outputs": [],
   "source": [
    "os.chdir('/fs/ess/PAS0439/MING/virome/checkv_res')"
   ]
  },
  {
   "cell_type": "code",
   "execution_count": 6,
   "id": "0a48b61a",
   "metadata": {},
   "outputs": [],
   "source": [
    "checkv_files = glob.glob('**/quality_summary.tsv', recursive = True)"
   ]
  },
  {
   "cell_type": "code",
   "execution_count": 7,
   "id": "60cccc9c",
   "metadata": {},
   "outputs": [],
   "source": [
    "checkv_df = []\n",
    "for file in checkv_files:\n",
    "    df = pd.read_csv(file, sep = '\\t')\n",
    "    checkv_df.append(df)"
   ]
  },
  {
   "cell_type": "code",
   "execution_count": 8,
   "id": "a3de032b",
   "metadata": {},
   "outputs": [],
   "source": [
    "checkv_for_manual_curation = pd.concat(checkv_df)"
   ]
  },
  {
   "cell_type": "code",
   "execution_count": 9,
   "id": "c2b95773",
   "metadata": {},
   "outputs": [],
   "source": [
    "checkv_for_amg_curation = checkv_for_manual_curation[checkv_for_manual_curation.contig_id.isin(amg_contigs_for_checking)][['contig_id', 'contig_length', 'gene_count', 'viral_genes', 'host_genes', 'checkv_quality']].reset_index(drop = True)"
   ]
  },
  {
   "cell_type": "code",
   "execution_count": 10,
   "id": "ac8811e4",
   "metadata": {},
   "outputs": [
    {
     "data": {
      "text/html": [
       "<div>\n",
       "<style scoped>\n",
       "    .dataframe tbody tr th:only-of-type {\n",
       "        vertical-align: middle;\n",
       "    }\n",
       "\n",
       "    .dataframe tbody tr th {\n",
       "        vertical-align: top;\n",
       "    }\n",
       "\n",
       "    .dataframe thead th {\n",
       "        text-align: right;\n",
       "    }\n",
       "</style>\n",
       "<table border=\"1\" class=\"dataframe\">\n",
       "  <thead>\n",
       "    <tr style=\"text-align: right;\">\n",
       "      <th></th>\n",
       "      <th>contig_id</th>\n",
       "      <th>contig_length</th>\n",
       "      <th>gene_count</th>\n",
       "      <th>viral_genes</th>\n",
       "      <th>host_genes</th>\n",
       "      <th>checkv_quality</th>\n",
       "    </tr>\n",
       "  </thead>\n",
       "  <tbody>\n",
       "    <tr>\n",
       "      <th>0</th>\n",
       "      <td>HS.02_67179||full</td>\n",
       "      <td>185095</td>\n",
       "      <td>315</td>\n",
       "      <td>32</td>\n",
       "      <td>4</td>\n",
       "      <td>Complete</td>\n",
       "    </tr>\n",
       "    <tr>\n",
       "      <th>1</th>\n",
       "      <td>HS.02_78242||full</td>\n",
       "      <td>190788</td>\n",
       "      <td>339</td>\n",
       "      <td>42</td>\n",
       "      <td>3</td>\n",
       "      <td>Complete</td>\n",
       "    </tr>\n",
       "    <tr>\n",
       "      <th>2</th>\n",
       "      <td>HS.02_441524||full</td>\n",
       "      <td>90992</td>\n",
       "      <td>151</td>\n",
       "      <td>15</td>\n",
       "      <td>5</td>\n",
       "      <td>Complete</td>\n",
       "    </tr>\n",
       "    <tr>\n",
       "      <th>3</th>\n",
       "      <td>HS.02_493423||full</td>\n",
       "      <td>68833</td>\n",
       "      <td>106</td>\n",
       "      <td>16</td>\n",
       "      <td>1</td>\n",
       "      <td>Complete</td>\n",
       "    </tr>\n",
       "    <tr>\n",
       "      <th>4</th>\n",
       "      <td>HS.02_781309||full</td>\n",
       "      <td>173063</td>\n",
       "      <td>277</td>\n",
       "      <td>35</td>\n",
       "      <td>5</td>\n",
       "      <td>Complete</td>\n",
       "    </tr>\n",
       "    <tr>\n",
       "      <th>...</th>\n",
       "      <td>...</td>\n",
       "      <td>...</td>\n",
       "      <td>...</td>\n",
       "      <td>...</td>\n",
       "      <td>...</td>\n",
       "      <td>...</td>\n",
       "    </tr>\n",
       "    <tr>\n",
       "      <th>1879</th>\n",
       "      <td>ERR4297101_1715298||full</td>\n",
       "      <td>63025</td>\n",
       "      <td>99</td>\n",
       "      <td>19</td>\n",
       "      <td>2</td>\n",
       "      <td>Complete</td>\n",
       "    </tr>\n",
       "    <tr>\n",
       "      <th>1880</th>\n",
       "      <td>ERR4297101_1718598||full</td>\n",
       "      <td>58144</td>\n",
       "      <td>95</td>\n",
       "      <td>21</td>\n",
       "      <td>1</td>\n",
       "      <td>Complete</td>\n",
       "    </tr>\n",
       "    <tr>\n",
       "      <th>1881</th>\n",
       "      <td>SRR12021134_56306||full</td>\n",
       "      <td>52438</td>\n",
       "      <td>76</td>\n",
       "      <td>21</td>\n",
       "      <td>3</td>\n",
       "      <td>Complete</td>\n",
       "    </tr>\n",
       "    <tr>\n",
       "      <th>1882</th>\n",
       "      <td>SRR12021134_2084708||full</td>\n",
       "      <td>118286</td>\n",
       "      <td>142</td>\n",
       "      <td>30</td>\n",
       "      <td>3</td>\n",
       "      <td>Complete</td>\n",
       "    </tr>\n",
       "    <tr>\n",
       "      <th>1883</th>\n",
       "      <td>SRR11585825_118734||full</td>\n",
       "      <td>45054</td>\n",
       "      <td>62</td>\n",
       "      <td>7</td>\n",
       "      <td>3</td>\n",
       "      <td>Complete</td>\n",
       "    </tr>\n",
       "  </tbody>\n",
       "</table>\n",
       "<p>1884 rows × 6 columns</p>\n",
       "</div>"
      ],
      "text/plain": [
       "                      contig_id  contig_length  gene_count  viral_genes  \\\n",
       "0             HS.02_67179||full         185095         315           32   \n",
       "1             HS.02_78242||full         190788         339           42   \n",
       "2            HS.02_441524||full          90992         151           15   \n",
       "3            HS.02_493423||full          68833         106           16   \n",
       "4            HS.02_781309||full         173063         277           35   \n",
       "...                         ...            ...         ...          ...   \n",
       "1879   ERR4297101_1715298||full          63025          99           19   \n",
       "1880   ERR4297101_1718598||full          58144          95           21   \n",
       "1881    SRR12021134_56306||full          52438          76           21   \n",
       "1882  SRR12021134_2084708||full         118286         142           30   \n",
       "1883   SRR11585825_118734||full          45054          62            7   \n",
       "\n",
       "      host_genes checkv_quality  \n",
       "0              4       Complete  \n",
       "1              3       Complete  \n",
       "2              5       Complete  \n",
       "3              1       Complete  \n",
       "4              5       Complete  \n",
       "...          ...            ...  \n",
       "1879           2       Complete  \n",
       "1880           1       Complete  \n",
       "1881           3       Complete  \n",
       "1882           3       Complete  \n",
       "1883           3       Complete  \n",
       "\n",
       "[1884 rows x 6 columns]"
      ]
     },
     "execution_count": 10,
     "metadata": {},
     "output_type": "execute_result"
    }
   ],
   "source": [
    "checkv_for_amg_curation"
   ]
  },
  {
   "cell_type": "code",
   "execution_count": 11,
   "id": "b7a66181",
   "metadata": {},
   "outputs": [],
   "source": [
    "checkv_for_amr_curation = checkv_for_manual_curation[checkv_for_manual_curation.contig_id.isin(amr_contigs_for_checking)][['contig_id', 'contig_length', 'gene_count','viral_genes','host_genes', 'checkv_quality']].reset_index(drop = True)"
   ]
  },
  {
   "cell_type": "code",
   "execution_count": 12,
   "id": "9651a008",
   "metadata": {},
   "outputs": [
    {
     "data": {
      "text/html": [
       "<div>\n",
       "<style scoped>\n",
       "    .dataframe tbody tr th:only-of-type {\n",
       "        vertical-align: middle;\n",
       "    }\n",
       "\n",
       "    .dataframe tbody tr th {\n",
       "        vertical-align: top;\n",
       "    }\n",
       "\n",
       "    .dataframe thead th {\n",
       "        text-align: right;\n",
       "    }\n",
       "</style>\n",
       "<table border=\"1\" class=\"dataframe\">\n",
       "  <thead>\n",
       "    <tr style=\"text-align: right;\">\n",
       "      <th></th>\n",
       "      <th>contig_id</th>\n",
       "      <th>contig_length</th>\n",
       "      <th>gene_count</th>\n",
       "      <th>viral_genes</th>\n",
       "      <th>host_genes</th>\n",
       "      <th>checkv_quality</th>\n",
       "    </tr>\n",
       "  </thead>\n",
       "  <tbody>\n",
       "    <tr>\n",
       "      <th>0</th>\n",
       "      <td>HS.02_1005742||full</td>\n",
       "      <td>24267</td>\n",
       "      <td>26</td>\n",
       "      <td>10</td>\n",
       "      <td>0</td>\n",
       "      <td>Low-quality</td>\n",
       "    </tr>\n",
       "    <tr>\n",
       "      <th>1</th>\n",
       "      <td>SRR4435581_160778||0_partial</td>\n",
       "      <td>38079</td>\n",
       "      <td>44</td>\n",
       "      <td>6</td>\n",
       "      <td>11</td>\n",
       "      <td>Low-quality</td>\n",
       "    </tr>\n",
       "    <tr>\n",
       "      <th>2</th>\n",
       "      <td>SRR4435563_250538||full</td>\n",
       "      <td>23553</td>\n",
       "      <td>30</td>\n",
       "      <td>6</td>\n",
       "      <td>1</td>\n",
       "      <td>Low-quality</td>\n",
       "    </tr>\n",
       "    <tr>\n",
       "      <th>3</th>\n",
       "      <td>SRR12529381_6541||full</td>\n",
       "      <td>43161</td>\n",
       "      <td>53</td>\n",
       "      <td>8</td>\n",
       "      <td>1</td>\n",
       "      <td>Low-quality</td>\n",
       "    </tr>\n",
       "    <tr>\n",
       "      <th>4</th>\n",
       "      <td>SRR12529381_382437||full</td>\n",
       "      <td>28430</td>\n",
       "      <td>32</td>\n",
       "      <td>4</td>\n",
       "      <td>11</td>\n",
       "      <td>Low-quality</td>\n",
       "    </tr>\n",
       "    <tr>\n",
       "      <th>...</th>\n",
       "      <td>...</td>\n",
       "      <td>...</td>\n",
       "      <td>...</td>\n",
       "      <td>...</td>\n",
       "      <td>...</td>\n",
       "      <td>...</td>\n",
       "    </tr>\n",
       "    <tr>\n",
       "      <th>322</th>\n",
       "      <td>ERR3515520_65914||full</td>\n",
       "      <td>24424</td>\n",
       "      <td>26</td>\n",
       "      <td>3</td>\n",
       "      <td>10</td>\n",
       "      <td>Low-quality</td>\n",
       "    </tr>\n",
       "    <tr>\n",
       "      <th>323</th>\n",
       "      <td>SRR8397906_198667||0_partial</td>\n",
       "      <td>13359</td>\n",
       "      <td>16</td>\n",
       "      <td>2</td>\n",
       "      <td>3</td>\n",
       "      <td>Low-quality</td>\n",
       "    </tr>\n",
       "    <tr>\n",
       "      <th>328</th>\n",
       "      <td>ERR4297094_720966||full</td>\n",
       "      <td>10226</td>\n",
       "      <td>13</td>\n",
       "      <td>1</td>\n",
       "      <td>2</td>\n",
       "      <td>Low-quality</td>\n",
       "    </tr>\n",
       "    <tr>\n",
       "      <th>329</th>\n",
       "      <td>ERR4297090_449111||full</td>\n",
       "      <td>20559</td>\n",
       "      <td>16</td>\n",
       "      <td>1</td>\n",
       "      <td>1</td>\n",
       "      <td>Low-quality</td>\n",
       "    </tr>\n",
       "    <tr>\n",
       "      <th>330</th>\n",
       "      <td>ERR4297086_1461277||full</td>\n",
       "      <td>12128</td>\n",
       "      <td>11</td>\n",
       "      <td>1</td>\n",
       "      <td>2</td>\n",
       "      <td>Low-quality</td>\n",
       "    </tr>\n",
       "  </tbody>\n",
       "</table>\n",
       "<p>192 rows × 6 columns</p>\n",
       "</div>"
      ],
      "text/plain": [
       "                        contig_id  contig_length  gene_count  viral_genes  \\\n",
       "0             HS.02_1005742||full          24267          26           10   \n",
       "1    SRR4435581_160778||0_partial          38079          44            6   \n",
       "2         SRR4435563_250538||full          23553          30            6   \n",
       "3          SRR12529381_6541||full          43161          53            8   \n",
       "4        SRR12529381_382437||full          28430          32            4   \n",
       "..                            ...            ...         ...          ...   \n",
       "322        ERR3515520_65914||full          24424          26            3   \n",
       "323  SRR8397906_198667||0_partial          13359          16            2   \n",
       "328       ERR4297094_720966||full          10226          13            1   \n",
       "329       ERR4297090_449111||full          20559          16            1   \n",
       "330      ERR4297086_1461277||full          12128          11            1   \n",
       "\n",
       "     host_genes checkv_quality  \n",
       "0             0    Low-quality  \n",
       "1            11    Low-quality  \n",
       "2             1    Low-quality  \n",
       "3             1    Low-quality  \n",
       "4            11    Low-quality  \n",
       "..          ...            ...  \n",
       "322          10    Low-quality  \n",
       "323           3    Low-quality  \n",
       "328           2    Low-quality  \n",
       "329           1    Low-quality  \n",
       "330           2    Low-quality  \n",
       "\n",
       "[192 rows x 6 columns]"
      ]
     },
     "execution_count": 12,
     "metadata": {},
     "output_type": "execute_result"
    }
   ],
   "source": [
    "#pd.set_option('display.max_rows', None)\n",
    "checkv_for_amr_curation.query('~(host_genes > 0 & viral_genes == 0)').query('contig_length > 10000')"
   ]
  },
  {
   "cell_type": "code",
   "execution_count": 13,
   "id": "87cb050f",
   "metadata": {},
   "outputs": [],
   "source": [
    "os.chdir('/fs/ess/PAS0439/MING/virome/amg_analysis/dram_annotation')"
   ]
  },
  {
   "cell_type": "code",
   "execution_count": 14,
   "id": "7bd3a532",
   "metadata": {},
   "outputs": [],
   "source": [
    "dramv_amg = glob.glob('**/annotations.tsv', recursive = True)"
   ]
  },
  {
   "cell_type": "code",
   "execution_count": 15,
   "id": "37496bac",
   "metadata": {},
   "outputs": [
    {
     "name": "stderr",
     "output_type": "stream",
     "text": [
      "/tmp/slurmtmp.11695650/ipykernel_268136/1893469611.py:3: DtypeWarning: Columns (17) have mixed types. Specify dtype option on import or set low_memory=False.\n",
      "  df = pd.read_csv(file, sep = '\\t')\n"
     ]
    }
   ],
   "source": [
    "dramv_amg_df = []\n",
    "for file in dramv_amg:\n",
    "    df = pd.read_csv(file, sep = '\\t')\n",
    "    dramv_amg_df.append(df)"
   ]
  },
  {
   "cell_type": "code",
   "execution_count": 16,
   "id": "5eb479f7",
   "metadata": {},
   "outputs": [],
   "source": [
    "dramv_amg_for_manual_curation = pd.concat(dramv_amg_df)"
   ]
  },
  {
   "cell_type": "code",
   "execution_count": 17,
   "id": "2d6b6115",
   "metadata": {},
   "outputs": [],
   "source": [
    "dramv_amg_for_manual_curation.rename(columns = {'Unnamed: 0': 'gene_name'}, inplace = True)\n",
    "dramv_amg_for_manual_curation.fasta = dramv_amg_for_manual_curation.fasta.apply(lambda x: x.replace('__full-cat_1', '||full'))"
   ]
  },
  {
   "cell_type": "code",
   "execution_count": 18,
   "id": "efc2c313",
   "metadata": {},
   "outputs": [],
   "source": [
    "dramv_amg_for_manual_curation_reformat = dramv_amg_for_manual_curation.get(['gene_name', 'fasta', 'kegg_hit', 'viral_hit', 'pfam_hits'])\n",
    "dramv_amg_for_manual_curation_reformat_new = dramv_amg_for_manual_curation_reformat[dramv_amg_for_manual_curation_reformat.fasta.isin(amg_contigs_for_checking)]"
   ]
  },
  {
   "cell_type": "code",
   "execution_count": 19,
   "id": "24e1f619",
   "metadata": {},
   "outputs": [],
   "source": [
    "group = dramv_amg_for_manual_curation_reformat_new.groupby('fasta').groups.keys()"
   ]
  },
  {
   "cell_type": "code",
   "execution_count": 20,
   "id": "63e85344",
   "metadata": {},
   "outputs": [],
   "source": [
    "import re\n",
    "def find_text(ser, string):\n",
    "    res = ser[ser.str.contains(string, flags=re.IGNORECASE)]\n",
    "    if res.empty:\n",
    "        res = ''\n",
    "    else:\n",
    "        res = str(list(res))\n",
    "    return res\n",
    "def get_hallmark(df):\n",
    "    kegg_hit = df['kegg_hit'].fillna('')\n",
    "    viral_hit = df['viral_hit'].fillna('')\n",
    "    pfam_hit =  df['pfam_hits'].fillna('')\n",
    "    \n",
    "       \n",
    "    kegg_capsid = find_text(kegg_hit, 'capsid')\n",
    "    kegg_portal = find_text(kegg_hit, 'portal')\n",
    "    kegg_coat = find_text(kegg_hit, 'portal')\n",
    "    kegg_baseplate = find_text(kegg_hit, 'baseplate')\n",
    "    kegg_head = find_text(kegg_hit, 'head')\n",
    "    kegg_tail = find_text(kegg_hit, 'tail')\n",
    "    kegg_tail_fiber = find_text(kegg_hit, 'tail fiber')\n",
    "    kegg_terminase = find_text(kegg_hit, 'terminase')\n",
    "    kegg_integrase = find_text(kegg_hit, 'integrase')\n",
    "    kegg_transposase = find_text(kegg_hit, 'transposase')\n",
    "    \n",
    "    viral_capsid = find_text(viral_hit, 'capsid')\n",
    "    viral_portal = find_text(viral_hit, 'portal')\n",
    "    viral_coat = find_text(viral_hit, 'portal')\n",
    "    viral_baseplate = find_text(viral_hit, 'baseplate')\n",
    "    viral_head = find_text(viral_hit, 'head')\n",
    "    viral_tail = find_text(viral_hit, 'tail')\n",
    "    viral_tail_fiber = find_text(viral_hit, 'tail fiber')\n",
    "    viral_terminase = find_text(viral_hit, 'terminase')\n",
    "    viral_integrase = find_text(viral_hit, 'integrase')\n",
    "    viral_transposase = find_text(viral_hit, 'transposase')\n",
    "    \n",
    "    pfam_capsid = find_text(pfam_hit, 'capsid')\n",
    "    pfam_portal = find_text(pfam_hit, 'portal')\n",
    "    pfam_coat = find_text(pfam_hit, 'portal')\n",
    "    pfam_baseplate = find_text(pfam_hit, 'baseplate')\n",
    "    pfam_head = find_text(pfam_hit, 'head')\n",
    "    pfam_tail = find_text(pfam_hit, 'tail')\n",
    "    pfam_tail_fiber = find_text(pfam_hit, 'tail fiber')\n",
    "    pfam_terminase = find_text(pfam_hit, 'terminase')\n",
    "    pfam_integrase = find_text(pfam_hit, 'integrase')\n",
    "    pfam_transposase = find_text(pfam_hit, 'transposase')\n",
    "    return kegg_capsid, kegg_portal, kegg_coat, kegg_baseplate, kegg_head, kegg_tail, kegg_tail_fiber, kegg_terminase, kegg_integrase, kegg_transposase, viral_capsid, viral_portal, viral_coat, viral_baseplate, viral_head, viral_tail, viral_tail_fiber, viral_terminase, viral_integrase, viral_transposase, pfam_capsid, pfam_portal, pfam_coat, pfam_baseplate, pfam_head, pfam_tail, pfam_tail_fiber, pfam_terminase, pfam_integrase, pfam_transposase\n",
    "        \n",
    "    \n",
    "    "
   ]
  },
  {
   "cell_type": "code",
   "execution_count": 21,
   "id": "5b9aab39",
   "metadata": {},
   "outputs": [],
   "source": [
    "dramv_amg_for_manual_curation_final = pd.DataFrame(list(dramv_amg_for_manual_curation_reformat_new.groupby('fasta').apply(get_hallmark)), index = group, columns = ['kegg_capsid', 'kegg_portal', 'kegg_coat', 'kegg_baseplate', 'kegg_head', 'kegg_tail', 'kegg_tail_fiber', 'kegg_terminase', 'kegg_integrase', 'kegg_transposase', 'viral_capsid', 'viral_portal', 'viral_coat', 'viral_baseplate', 'viral_head', 'viral_tail', 'viral_tail_fiber', 'viral_terminase', 'viral_integrase', 'viral_transposase', 'pfam_capsid', 'pfam_portal', 'pfam_coat', 'pfam_baseplate', 'pfam_head', 'pfam_tail', 'pfam_tail_fiber', 'pfam_terminase', 'pfam_integrase', 'pfam_transposase'])\n"
   ]
  },
  {
   "cell_type": "code",
   "execution_count": 22,
   "id": "74d3e38e",
   "metadata": {},
   "outputs": [],
   "source": [
    "dramv_amg_for_manual_curation_final.reset_index(inplace = True)\n",
    "dramv_amg_for_manual_curation_final.rename(columns = {'index': 'contig'}, inplace = True)"
   ]
  },
  {
   "cell_type": "code",
   "execution_count": 23,
   "id": "780b3600",
   "metadata": {},
   "outputs": [],
   "source": [
    "amg_manual_curation = pd.merge(dramv_amg_for_manual_curation_final, checkv_for_amg_curation, left_on = 'contig', right_on = 'contig_id').drop('contig_id', axis = 1)"
   ]
  },
  {
   "cell_type": "code",
   "execution_count": 24,
   "id": "b825bc63",
   "metadata": {},
   "outputs": [],
   "source": [
    "def remove_bracket(x):\n",
    "    if str(x).startswith(r'['):\n",
    "        return re.sub(r\"[\\[\\]']\", '', x)\n",
    "    else:\n",
    "        return x\n",
    "    \n",
    "            \n",
    "amg_manual_curation = amg_manual_curation.applymap(remove_bracket)"
   ]
  },
  {
   "cell_type": "code",
   "execution_count": 25,
   "id": "69abe239",
   "metadata": {},
   "outputs": [],
   "source": [
    "amg_manual_curation['all_structure'] = amg_manual_curation['kegg_capsid'] + amg_manual_curation['kegg_portal'] + amg_manual_curation['kegg_coat'] + amg_manual_curation['kegg_baseplate'] + amg_manual_curation['kegg_head'] + amg_manual_curation['kegg_tail'] + amg_manual_curation['kegg_tail_fiber'] + amg_manual_curation['kegg_terminase'] +  amg_manual_curation['viral_capsid'] + amg_manual_curation['viral_portal'] + amg_manual_curation['viral_coat'] + amg_manual_curation['viral_baseplate'] + amg_manual_curation['viral_head'] + amg_manual_curation['viral_tail'] + amg_manual_curation['viral_tail_fiber'] + amg_manual_curation['viral_terminase'] + amg_manual_curation['pfam_capsid'] + amg_manual_curation['pfam_portal'] + amg_manual_curation['pfam_coat'] + amg_manual_curation['pfam_baseplate'] + amg_manual_curation['pfam_head'] + amg_manual_curation['pfam_tail'] + amg_manual_curation['pfam_tail_fiber'] + amg_manual_curation['pfam_terminase'] "
   ]
  },
  {
   "cell_type": "code",
   "execution_count": 26,
   "id": "0fdd8ea3",
   "metadata": {},
   "outputs": [],
   "source": [
    "amg_manual_curation['structure_no_tail'] = amg_manual_curation['kegg_capsid'] + amg_manual_curation['kegg_portal'] + amg_manual_curation['kegg_coat'] + amg_manual_curation['kegg_baseplate'] + amg_manual_curation['kegg_head'] + amg_manual_curation['kegg_terminase'] +  amg_manual_curation['viral_capsid'] + amg_manual_curation['viral_portal'] + amg_manual_curation['viral_coat'] + amg_manual_curation['viral_baseplate'] + amg_manual_curation['viral_head'] + amg_manual_curation['viral_terminase'] + amg_manual_curation['pfam_capsid'] + amg_manual_curation['pfam_portal'] + amg_manual_curation['pfam_coat'] + amg_manual_curation['pfam_baseplate'] + amg_manual_curation['pfam_head']  + amg_manual_curation['pfam_terminase'] "
   ]
  },
  {
   "cell_type": "code",
   "execution_count": 27,
   "id": "1ef6ad98",
   "metadata": {},
   "outputs": [],
   "source": [
    "amg_manual_curation['integrase_or_transposase'] = amg_manual_curation['kegg_integrase'] + amg_manual_curation['kegg_transposase'] + amg_manual_curation['viral_integrase'] + amg_manual_curation['viral_transposase'] + amg_manual_curation['pfam_integrase'] + amg_manual_curation['pfam_transposase'] "
   ]
  },
  {
   "cell_type": "code",
   "execution_count": 28,
   "id": "f2a0fafe",
   "metadata": {},
   "outputs": [],
   "source": [
    "#amg_manual_curation.to_csv('/fs/ess/PAS0439/MING/virome/AMR_AMG_containing_contigs_manual_check/amg_manual_curation.csv', index = None)"
   ]
  },
  {
   "cell_type": "code",
   "execution_count": 56,
   "id": "ec1730e1",
   "metadata": {},
   "outputs": [],
   "source": [
    "os.chdir('/fs/scratch/PAS0439/Ming/results/amr_results/dramv')\n",
    "\n",
    "dramv_amr = glob.glob('**/annotations.tsv', recursive = True)\n",
    "dramv_amr_df = []\n",
    "\n",
    "for file in dramv_amr:\n",
    "    df = pd.read_csv(file, sep = '\\t')\n",
    "    dramv_amr_df.append(df)\n",
    "    dramv_amr_for_manual_curation = pd.concat(dramv_amr_df)\n",
    "\n",
    "dramv_amr_for_manual_curation.rename(columns = {'Unnamed: 0': 'gene_name'}, inplace = True)\n",
    "dramv_amr_for_manual_curation.fasta = dramv_amr_for_manual_curation.fasta.apply(lambda x: x.replace('__full-cat_1', '||full'))\n",
    "dramv_amr_for_manual_curation.fasta = dramv_amr_for_manual_curation.fasta.apply(lambda x: x.replace('__full-cat_2', '||full'))\n",
    "\n",
    "dramv_amr_for_manual_curation_reformat = dramv_amr_for_manual_curation.get(['gene_name', 'fasta', 'kegg_hit', 'viral_hit', 'pfam_hits'])\n",
    "dramv_amr_for_manual_curation_reformat_new = dramv_amr_for_manual_curation_reformat[dramv_amr_for_manual_curation_reformat.fasta.isin(amr_contigs_for_checking)]\n",
    "\n",
    "group = dramv_amr_for_manual_curation_reformat_new.groupby('fasta').groups.keys()\n",
    "\n",
    "group = dramv_amr_for_manual_curation_reformat_new.groupby('fasta').groups.keys()\n",
    "dramv_amr_for_manual_curation_final = pd.DataFrame(list(dramv_amr_for_manual_curation_reformat_new.groupby('fasta').apply(get_hallmark)), index = group, columns = ['kegg_capsid', 'kegg_portal', 'kegg_coat', 'kegg_baseplate', 'kegg_head', 'kegg_tail', 'kegg_tail_fiber', 'kegg_terminase', 'kegg_integrase', 'kegg_transposase', 'viral_capsid', 'viral_portal', 'viral_coat', 'viral_baseplate', 'viral_head', 'viral_tail', 'viral_tail_fiber', 'viral_terminase', 'viral_integrase', 'viral_transposase', 'pfam_capsid', 'pfam_portal', 'pfam_coat', 'pfam_baseplate', 'pfam_head', 'pfam_tail', 'pfam_tail_fiber', 'pfam_terminase', 'pfam_integrase', 'pfam_transposase'])\n",
    "\n",
    "dramv_amr_for_manual_curation_final.reset_index(inplace = True)\n",
    "dramv_amr_for_manual_curation_final.rename(columns = {'index': 'contig'}, inplace = True)\n",
    "\n",
    "amr_manual_curation = pd.merge(dramv_amr_for_manual_curation_final, checkv_for_amr_curation, left_on = 'contig', right_on = 'contig_id').drop('contig_id', axis = 1)\n",
    "\n",
    "amr_manual_curation = amr_manual_curation.applymap(remove_bracket)\n",
    "\n",
    "amr_manual_curation['all_structure'] = amr_manual_curation['kegg_capsid'] + amr_manual_curation['kegg_portal'] + amr_manual_curation['kegg_coat'] + amr_manual_curation['kegg_baseplate'] + amr_manual_curation['kegg_head'] + amr_manual_curation['kegg_tail'] + amr_manual_curation['kegg_tail_fiber'] + amr_manual_curation['kegg_terminase'] +  amr_manual_curation['viral_capsid'] + amr_manual_curation['viral_portal'] + amr_manual_curation['viral_coat'] + amr_manual_curation['viral_baseplate'] + amr_manual_curation['viral_head'] + amr_manual_curation['viral_tail'] + amr_manual_curation['viral_tail_fiber'] + amr_manual_curation['viral_terminase'] + amr_manual_curation['pfam_capsid'] + amr_manual_curation['pfam_portal'] + amr_manual_curation['pfam_coat'] + amr_manual_curation['pfam_baseplate'] + amr_manual_curation['pfam_head'] + amr_manual_curation['pfam_tail'] + amr_manual_curation['pfam_tail_fiber'] + amr_manual_curation['pfam_terminase'] \n",
    "amr_manual_curation['structure_no_tail'] = amr_manual_curation['kegg_capsid'] + amr_manual_curation['kegg_portal'] + amr_manual_curation['kegg_coat'] + amr_manual_curation['kegg_baseplate'] + amr_manual_curation['kegg_head'] + amr_manual_curation['kegg_terminase'] +  amr_manual_curation['viral_capsid'] + amr_manual_curation['viral_portal'] + amr_manual_curation['viral_coat'] + amr_manual_curation['viral_baseplate'] + amr_manual_curation['viral_head'] + amr_manual_curation['viral_terminase'] + amr_manual_curation['pfam_capsid'] + amr_manual_curation['pfam_portal'] + amr_manual_curation['pfam_coat'] + amr_manual_curation['pfam_baseplate'] + amr_manual_curation['pfam_head']  + amr_manual_curation['pfam_terminase'] \n",
    "amr_manual_curation['integrase_or_transposase'] = amr_manual_curation['kegg_integrase'] + amr_manual_curation['kegg_transposase'] + amr_manual_curation['viral_integrase'] + amr_manual_curation['viral_transposase'] + amr_manual_curation['pfam_integrase'] + amr_manual_curation['pfam_transposase'] "
   ]
  },
  {
   "cell_type": "code",
   "execution_count": 59,
   "id": "f65c2533",
   "metadata": {},
   "outputs": [],
   "source": [
    "amr_manual_curation.query('contig_length > 10000', inplace = True)"
   ]
  },
  {
   "cell_type": "code",
   "execution_count": 61,
   "id": "a15d107a",
   "metadata": {},
   "outputs": [],
   "source": [
    "amr_manual_curation.to_csv('/fs/ess/PAS0439/MING/virome/AMR_AMG_containing_contigs_manual_check/amr_manual_curation.csv', index = None)"
   ]
  },
  {
   "cell_type": "code",
   "execution_count": null,
   "id": "5ffc90e8",
   "metadata": {},
   "outputs": [],
   "source": []
  }
 ],
 "metadata": {
  "kernelspec": {
   "display_name": "MYENV [/fs/ess/PAS0439/MING/conda/MYENV]",
   "language": "python",
   "name": "conda_myenv"
  },
  "language_info": {
   "codemirror_mode": {
    "name": "ipython",
    "version": 3
   },
   "file_extension": ".py",
   "mimetype": "text/x-python",
   "name": "python",
   "nbconvert_exporter": "python",
   "pygments_lexer": "ipython3",
   "version": "3.10.4"
  }
 },
 "nbformat": 4,
 "nbformat_minor": 5
}
