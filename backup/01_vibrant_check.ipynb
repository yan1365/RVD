{
 "cells": [
  {
   "cell_type": "code",
   "execution_count": 50,
   "id": "576eb04b",
   "metadata": {},
   "outputs": [],
   "source": [
    "import os\n",
    "import pandas as pd\n",
    "import numpy as np\n",
    "from Bio import SeqIO\n",
    "import glob\n",
    "import re"
   ]
  },
  {
   "cell_type": "code",
   "execution_count": 3,
   "id": "30e9d15e",
   "metadata": {},
   "outputs": [],
   "source": [
    "os.chdir('/fs/ess/PAS0439/MING/virome/checkv_trimmed_for_dowmstream/vOTU/vOTU_split_for_vibrant')"
   ]
  },
  {
   "cell_type": "code",
   "execution_count": 8,
   "id": "17200cad",
   "metadata": {},
   "outputs": [],
   "source": [
    "checkv_res = glob.glob('**/vOTU.part_*.phages_combined.txt', recursive = True)"
   ]
  },
  {
   "cell_type": "code",
   "execution_count": 78,
   "id": "202a15b8",
   "metadata": {},
   "outputs": [],
   "source": [
    "checkv_df = []\n",
    "for res in checkv_res:\n",
    "    df = pd.read_csv(res, sep = ' ', header = None, names = ['contig', 'des']).loc[:, 'contig']\n",
    "    checkv_df.append(df)\n",
    "vibrant_virus = [re.sub('_fragment.*', '', f) for f in list(pd.concat(checkv_df))]\n",
    "    "
   ]
  },
  {
   "cell_type": "code",
   "execution_count": 79,
   "id": "98fa83ff",
   "metadata": {},
   "outputs": [
    {
     "data": {
      "text/plain": [
       "397404"
      ]
     },
     "execution_count": 79,
     "metadata": {},
     "output_type": "execute_result"
    }
   ],
   "source": [
    "len(vibrant_virus)"
   ]
  },
  {
   "cell_type": "code",
   "execution_count": 26,
   "id": "2372b24d",
   "metadata": {},
   "outputs": [],
   "source": [
    "vOTU = []\n",
    "records =  SeqIO.parse('../vOTU.fa', 'fasta')\n",
    "for record in records:\n",
    "    vOTU.append(record.name)"
   ]
  },
  {
   "cell_type": "code",
   "execution_count": 27,
   "id": "93c746b6",
   "metadata": {},
   "outputs": [
    {
     "data": {
      "text/plain": [
       "411125"
      ]
     },
     "execution_count": 27,
     "metadata": {},
     "output_type": "execute_result"
    }
   ],
   "source": [
    "len(vOTU)"
   ]
  },
  {
   "cell_type": "code",
   "execution_count": 80,
   "id": "ea85ab3d",
   "metadata": {},
   "outputs": [],
   "source": [
    "with open('../vOTU_vs2_vibrant_intersection1.fa', 'w') as infile:\n",
    "    records =  SeqIO.parse('../vOTU.fa', 'fasta')\n",
    "    for record in records:\n",
    "        if record.name in vibrant_virus:\n",
    "            SeqIO.write(record, infile, 'fasta')"
   ]
  },
  {
   "cell_type": "code",
   "execution_count": 34,
   "id": "820a8534",
   "metadata": {},
   "outputs": [],
   "source": [
    "with open('../vOTU_10kb.fa', 'w') as infile:\n",
    "    records =  SeqIO.parse('../vOTU.fa', 'fasta')\n",
    "    for record in records:\n",
    "        if len(record.seq) > 10000:\n",
    "            SeqIO.write(record, infile, 'fasta')"
   ]
  },
  {
   "cell_type": "code",
   "execution_count": 81,
   "id": "d29ce2a7",
   "metadata": {},
   "outputs": [],
   "source": [
    "with open('../vOTU_10kb_vs2_vibrant_intersection.fa', 'w') as infile:\n",
    "    records =  SeqIO.parse('../vOTU_10kb.fa', 'fasta')\n",
    "    for record in records:\n",
    "        if record.name in vibrant_virus:\n",
    "            SeqIO.write(record, infile, 'fasta')"
   ]
  },
  {
   "cell_type": "code",
   "execution_count": null,
   "id": "75c7ac35",
   "metadata": {},
   "outputs": [],
   "source": []
  }
 ],
 "metadata": {
  "kernelspec": {
   "display_name": "MYENV [/fs/ess/PAS0439/MING/conda/MYENV]",
   "language": "python",
   "name": "conda_myenv"
  },
  "language_info": {
   "codemirror_mode": {
    "name": "ipython",
    "version": 3
   },
   "file_extension": ".py",
   "mimetype": "text/x-python",
   "name": "python",
   "nbconvert_exporter": "python",
   "pygments_lexer": "ipython3",
   "version": "3.10.4"
  }
 },
 "nbformat": 4,
 "nbformat_minor": 5
}
