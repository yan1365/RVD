{
 "cells": [
  {
   "cell_type": "code",
   "execution_count": 1,
   "id": "c684b83e",
   "metadata": {},
   "outputs": [],
   "source": [
    "import os\n",
    "import pandas as pd\n",
    "import numpy as np\n",
    "import re\n",
    "import glob\n",
    "from Bio import SeqIO"
   ]
  },
  {
   "cell_type": "code",
   "execution_count": 5,
   "id": "759962d6",
   "metadata": {},
   "outputs": [],
   "source": [
    "os.chdir('/fs/ess/PAS0439/MING/virome/checkv_trimmed_for_dowmstream/checkv/output')"
   ]
  },
  {
   "cell_type": "code",
   "execution_count": 7,
   "id": "39561e93",
   "metadata": {},
   "outputs": [],
   "source": [
    "checkv = pd.read_csv('checkv_quality_summary.tsv', sep = '\\t')"
   ]
  },
  {
   "cell_type": "code",
   "execution_count": 10,
   "id": "5818d46d",
   "metadata": {},
   "outputs": [],
   "source": [
    "high_quality = ['Medium-quality', 'Complete', 'High-quality']"
   ]
  },
  {
   "cell_type": "code",
   "execution_count": 21,
   "id": "b9e7479d",
   "metadata": {},
   "outputs": [],
   "source": [
    "high_qualilty_genomes = list(checkv[checkv.checkv_quality.isin(high_quality)].reset_index(drop = True)['contig_id'])"
   ]
  },
  {
   "cell_type": "code",
   "execution_count": 24,
   "id": "d04ef374",
   "metadata": {},
   "outputs": [
    {
     "data": {
      "text/plain": [
       "41738"
      ]
     },
     "execution_count": 24,
     "metadata": {},
     "output_type": "execute_result"
    }
   ],
   "source": [
    "len(high_qualilty_genomes)"
   ]
  },
  {
   "cell_type": "code",
   "execution_count": 23,
   "id": "d436e645",
   "metadata": {},
   "outputs": [],
   "source": [
    "with open('/fs/ess/PAS0439/MING/virome/checkv_trimmed_for_dowmstream/taxonomy/Caudovirales_tree/high_quality_votu.fasta', 'w') as outfile:\n",
    "    records = SeqIO.parse('../../vOTU/vOTU_vs2_vibrant_intersection.fa', 'fasta') \n",
    "    for record in records:\n",
    "        if record.name in high_qualilty_genomes:\n",
    "            SeqIO.write(record, outfile, 'fasta')\n",
    "    "
   ]
  },
  {
   "cell_type": "code",
   "execution_count": null,
   "id": "1a8f0876",
   "metadata": {},
   "outputs": [],
   "source": []
  }
 ],
 "metadata": {
  "kernelspec": {
   "display_name": "MYENV [/fs/ess/PAS0439/MING/conda/MYENV]",
   "language": "python",
   "name": "conda_myenv"
  },
  "language_info": {
   "codemirror_mode": {
    "name": "ipython",
    "version": 3
   },
   "file_extension": ".py",
   "mimetype": "text/x-python",
   "name": "python",
   "nbconvert_exporter": "python",
   "pygments_lexer": "ipython3",
   "version": "3.10.4"
  }
 },
 "nbformat": 4,
 "nbformat_minor": 5
}
