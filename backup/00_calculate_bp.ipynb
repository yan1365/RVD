{
 "cells": [
  {
   "cell_type": "code",
   "execution_count": 1,
   "id": "15d2a859",
   "metadata": {},
   "outputs": [],
   "source": [
    "import os\n",
    "import glob\n",
    "import numpy as np"
   ]
  },
  {
   "cell_type": "code",
   "execution_count": 2,
   "id": "a37303a2",
   "metadata": {},
   "outputs": [],
   "source": [
    "os.chdir('/fs/scratch/PAS0439/lzj/CBR_reads')"
   ]
  },
  {
   "cell_type": "code",
   "execution_count": 14,
   "id": "3196665d",
   "metadata": {},
   "outputs": [],
   "source": [
    "CBR = glob.glob('*1.fq.gz')"
   ]
  },
  {
   "cell_type": "code",
   "execution_count": 15,
   "id": "f714aba2",
   "metadata": {},
   "outputs": [],
   "source": [
    "CBR = np.array([f[:-8] for f in CBR])"
   ]
  },
  {
   "cell_type": "code",
   "execution_count": 23,
   "id": "76d9ba08",
   "metadata": {},
   "outputs": [],
   "source": [
    "for f in range(65):\n",
    "    with open(f'/fs/ess/PAS0439/MING/virome/checkv_trimmed_for_dowmstream/scripts/ecology/CBR_{f}', 'w') as file:\n",
    "        for i in np.array_split(CBR,65)[f]:\n",
    "            file.write(i + '\\n')"
   ]
  },
  {
   "cell_type": "code",
   "execution_count": 3,
   "id": "69ab01c1",
   "metadata": {},
   "outputs": [],
   "source": [
    "os.chdir('../sheep_reads')\n",
    "CBR = glob.glob('*1.fq.gz')\n",
    "CBR = np.array([f[:-8] for f in CBR])\n",
    "for f in range(15):\n",
    "    with open(f'/fs/ess/PAS0439/MING/virome/checkv_trimmed_for_dowmstream/scripts/ecology/sheep_{f}', 'w') as file:\n",
    "        for i in np.array_split(CBR,15)[f]:\n",
    "            file.write(i + '\\n')"
   ]
  },
  {
   "cell_type": "code",
   "execution_count": 4,
   "id": "4822f370",
   "metadata": {},
   "outputs": [],
   "source": [
    "os.chdir('../mix_reads')\n",
    "CBR = glob.glob('*1.fq.gz')\n",
    "CBR = np.array([f[:-8] for f in CBR])\n",
    "for f in range(15):\n",
    "    with open(f'/fs/ess/PAS0439/MING/virome/checkv_trimmed_for_dowmstream/scripts/ecology/mix_{f}', 'w') as file:\n",
    "        for i in np.array_split(CBR,15)[f]:\n",
    "            file.write(i + '\\n')"
   ]
  },
  {
   "cell_type": "code",
   "execution_count": null,
   "id": "deac92d4",
   "metadata": {},
   "outputs": [],
   "source": []
  }
 ],
 "metadata": {
  "kernelspec": {
   "display_name": "MYENV [/fs/ess/PAS0439/MING/conda/MYENV]",
   "language": "python",
   "name": "conda_myenv"
  },
  "language_info": {
   "codemirror_mode": {
    "name": "ipython",
    "version": 3
   },
   "file_extension": ".py",
   "mimetype": "text/x-python",
   "name": "python",
   "nbconvert_exporter": "python",
   "pygments_lexer": "ipython3",
   "version": "3.10.4"
  }
 },
 "nbformat": 4,
 "nbformat_minor": 5
}
