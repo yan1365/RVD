{
 "cells": [
  {
   "cell_type": "code",
   "execution_count": 1,
   "id": "e55fde9d",
   "metadata": {},
   "outputs": [],
   "source": [
    "import os\n",
    "import pandas as pd\n",
    "import numpy as np\n",
    "import re\n",
    "import glob\n",
    "from functools import reduce"
   ]
  },
  {
   "cell_type": "code",
   "execution_count": 2,
   "id": "b4e0e69a",
   "metadata": {},
   "outputs": [],
   "source": [
    "os.chdir('/fs/scratch/PAS0439/02.virome_lzj/01.abundance')"
   ]
  },
  {
   "cell_type": "code",
   "execution_count": 3,
   "id": "018af22f",
   "metadata": {},
   "outputs": [],
   "source": [
    "abundance = glob.glob('*.txt')\n",
    "reads = glob.glob('*.stat')"
   ]
  },
  {
   "cell_type": "code",
   "execution_count": 17,
   "id": "f5d42386",
   "metadata": {},
   "outputs": [],
   "source": [
    "for f in abundance:\n",
    "    with open(f, 'r') as file:\n",
    "        sample = f[:-4]\n",
    "        with open(f'/fs/ess/PAS0439/MING/virome/checkv_trimmed_for_dowmstream/ecology/tmp/{sample}.txt', 'w') as outfile:\n",
    "            content =  file.readlines()[1:]\n",
    "            outfile.write(sample + '\\n')\n",
    "            for line in content:\n",
    "                outfile.write(line.split()[1] + '\\n')"
   ]
  },
  {
   "cell_type": "code",
   "execution_count": 9,
   "id": "15840bdb",
   "metadata": {},
   "outputs": [
    {
     "data": {
      "text/plain": [
       "'SRR11485370'"
      ]
     },
     "execution_count": 9,
     "metadata": {},
     "output_type": "execute_result"
    }
   ],
   "source": [
    "# cut -f 1 ERR2530127.txt > /fs/ess/PAS0439/MING/virome/checkv_trimmed_for_dowmstream/ecology/tmp/votu\n",
    "# paste votu $(ls *.txt) > ../abundance_table_raw.tsv"
   ]
  },
  {
   "cell_type": "code",
   "execution_count": 4,
   "id": "6a3d0ca9",
   "metadata": {},
   "outputs": [],
   "source": [
    "with open('/fs/scratch/PAS0439/Ming/virome_ecology_core_prkaryotes/results/tmp/SRR7907952.txt', 'r') as file:\n",
    "    sample = 'SRR7907952'\n",
    "    with open(f'/fs/ess/PAS0439/MING/virome/checkv_trimmed_for_dowmstream/ecology/tmp/{sample}.txt', 'w') as outfile:\n",
    "        content =  file.readlines()[1:]\n",
    "        outfile.write(sample + '\\n')\n",
    "        for line in content:\n",
    "            outfile.write(line.split()[1] + '\\n')\n",
    "    "
   ]
  },
  {
   "cell_type": "code",
   "execution_count": null,
   "id": "15b55cf2",
   "metadata": {},
   "outputs": [],
   "source": []
  }
 ],
 "metadata": {
  "kernelspec": {
   "display_name": "MYENV [/fs/ess/PAS0439/MING/conda/MYENV]",
   "language": "python",
   "name": "conda_myenv"
  },
  "language_info": {
   "codemirror_mode": {
    "name": "ipython",
    "version": 3
   },
   "file_extension": ".py",
   "mimetype": "text/x-python",
   "name": "python",
   "nbconvert_exporter": "python",
   "pygments_lexer": "ipython3",
   "version": "3.10.4"
  }
 },
 "nbformat": 4,
 "nbformat_minor": 5
}
