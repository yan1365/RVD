{
 "cells": [
  {
   "cell_type": "code",
   "execution_count": 2,
   "id": "734f9408",
   "metadata": {},
   "outputs": [],
   "source": [
    "import os\n",
    "import pandas as pd\n",
    "import numpy as np\n",
    "import re\n",
    "import glob\n",
    "from Bio import SeqIO"
   ]
  },
  {
   "cell_type": "code",
   "execution_count": 3,
   "id": "1d697ef3",
   "metadata": {},
   "outputs": [],
   "source": [
    "os.chdir('/fs/ess/PAS0439/MING/virome/checkv_res')"
   ]
  },
  {
   "cell_type": "code",
   "execution_count": 4,
   "id": "446ca8f4",
   "metadata": {},
   "outputs": [],
   "source": [
    "checkv = glob.glob('**/quality_summary.tsv', recursive=True)"
   ]
  },
  {
   "cell_type": "code",
   "execution_count": 5,
   "id": "90549a34",
   "metadata": {},
   "outputs": [],
   "source": [
    "checkv_list = []\n",
    "for res in checkv:\n",
    "    df = pd.read_csv(res, sep = '\\t').query('contig_length > 5000')[['contig_id', 'checkv_quality']]\n",
    "    checkv_list.append(df)\n",
    "checkv_df = pd.concat(checkv_list)"
   ]
  },
  {
   "cell_type": "code",
   "execution_count": 6,
   "id": "47034c82",
   "metadata": {},
   "outputs": [
    {
     "data": {
      "text/html": [
       "<div>\n",
       "<style scoped>\n",
       "    .dataframe tbody tr th:only-of-type {\n",
       "        vertical-align: middle;\n",
       "    }\n",
       "\n",
       "    .dataframe tbody tr th {\n",
       "        vertical-align: top;\n",
       "    }\n",
       "\n",
       "    .dataframe thead th {\n",
       "        text-align: right;\n",
       "    }\n",
       "</style>\n",
       "<table border=\"1\" class=\"dataframe\">\n",
       "  <thead>\n",
       "    <tr style=\"text-align: right;\">\n",
       "      <th></th>\n",
       "      <th>contig_id</th>\n",
       "      <th>checkv_quality</th>\n",
       "    </tr>\n",
       "  </thead>\n",
       "  <tbody>\n",
       "    <tr>\n",
       "      <th>0</th>\n",
       "      <td>HS.02_5364||0_partial</td>\n",
       "      <td>Medium-quality</td>\n",
       "    </tr>\n",
       "    <tr>\n",
       "      <th>1</th>\n",
       "      <td>HS.02_58486||0_partial</td>\n",
       "      <td>High-quality</td>\n",
       "    </tr>\n",
       "    <tr>\n",
       "      <th>2</th>\n",
       "      <td>HS.02_97635||0_partial</td>\n",
       "      <td>Low-quality</td>\n",
       "    </tr>\n",
       "    <tr>\n",
       "      <th>3</th>\n",
       "      <td>HS.02_97635||1_partial</td>\n",
       "      <td>Low-quality</td>\n",
       "    </tr>\n",
       "    <tr>\n",
       "      <th>4</th>\n",
       "      <td>HS.02_100590||0_partial</td>\n",
       "      <td>Not-determined</td>\n",
       "    </tr>\n",
       "    <tr>\n",
       "      <th>...</th>\n",
       "      <td>...</td>\n",
       "      <td>...</td>\n",
       "    </tr>\n",
       "    <tr>\n",
       "      <th>962</th>\n",
       "      <td>SRR12444893_1410895||full</td>\n",
       "      <td>Low-quality</td>\n",
       "    </tr>\n",
       "    <tr>\n",
       "      <th>963</th>\n",
       "      <td>SRR12444893_1411881||full</td>\n",
       "      <td>Low-quality</td>\n",
       "    </tr>\n",
       "    <tr>\n",
       "      <th>964</th>\n",
       "      <td>SRR12444893_1412606||full</td>\n",
       "      <td>Not-determined</td>\n",
       "    </tr>\n",
       "    <tr>\n",
       "      <th>965</th>\n",
       "      <td>SRR12444893_1413576||full</td>\n",
       "      <td>Not-determined</td>\n",
       "    </tr>\n",
       "    <tr>\n",
       "      <th>966</th>\n",
       "      <td>SRR12444893_1414537||full</td>\n",
       "      <td>Low-quality</td>\n",
       "    </tr>\n",
       "  </tbody>\n",
       "</table>\n",
       "<p>1153885 rows × 2 columns</p>\n",
       "</div>"
      ],
      "text/plain": [
       "                     contig_id  checkv_quality\n",
       "0        HS.02_5364||0_partial  Medium-quality\n",
       "1       HS.02_58486||0_partial    High-quality\n",
       "2       HS.02_97635||0_partial     Low-quality\n",
       "3       HS.02_97635||1_partial     Low-quality\n",
       "4      HS.02_100590||0_partial  Not-determined\n",
       "..                         ...             ...\n",
       "962  SRR12444893_1410895||full     Low-quality\n",
       "963  SRR12444893_1411881||full     Low-quality\n",
       "964  SRR12444893_1412606||full  Not-determined\n",
       "965  SRR12444893_1413576||full  Not-determined\n",
       "966  SRR12444893_1414537||full     Low-quality\n",
       "\n",
       "[1153885 rows x 2 columns]"
      ]
     },
     "execution_count": 6,
     "metadata": {},
     "output_type": "execute_result"
    }
   ],
   "source": [
    "checkv_df"
   ]
  },
  {
   "cell_type": "code",
   "execution_count": 7,
   "id": "34770e0f",
   "metadata": {},
   "outputs": [],
   "source": [
    "votu = []\n",
    "records = SeqIO.parse('/fs/ess/PAS0439/MING/virome/checkv_trimmed_for_dowmstream/vOTU/vOTU_vs2_vibrant_intersection.fa', 'fasta')\n",
    "for record in records:\n",
    "    votu.append(record.name)"
   ]
  },
  {
   "cell_type": "code",
   "execution_count": 8,
   "id": "a2a27479",
   "metadata": {},
   "outputs": [],
   "source": [
    "tmp = checkv_df[checkv_df.contig_id.isin(votu)]"
   ]
  },
  {
   "cell_type": "code",
   "execution_count": 9,
   "id": "ce0f3ad4",
   "metadata": {},
   "outputs": [
    {
     "data": {
      "text/plain": [
       "13148"
      ]
     },
     "execution_count": 9,
     "metadata": {},
     "output_type": "execute_result"
    }
   ],
   "source": [
    "for_checkv = list(set(votu) - set(tmp.contig_id))\n",
    "len(for_checkv)"
   ]
  },
  {
   "cell_type": "code",
   "execution_count": 10,
   "id": "ccf00035",
   "metadata": {},
   "outputs": [
    {
     "data": {
      "text/plain": [
       "True"
      ]
     },
     "execution_count": 10,
     "metadata": {},
     "output_type": "execute_result"
    }
   ],
   "source": [
    "'ERR3201410_654787||full_1' in for_checkv"
   ]
  },
  {
   "cell_type": "code",
   "execution_count": 139,
   "id": "e5207123",
   "metadata": {
    "scrolled": true
   },
   "outputs": [
    {
     "data": {
      "text/html": [
       "<div>\n",
       "<style scoped>\n",
       "    .dataframe tbody tr th:only-of-type {\n",
       "        vertical-align: middle;\n",
       "    }\n",
       "\n",
       "    .dataframe tbody tr th {\n",
       "        vertical-align: top;\n",
       "    }\n",
       "\n",
       "    .dataframe thead th {\n",
       "        text-align: right;\n",
       "    }\n",
       "</style>\n",
       "<table border=\"1\" class=\"dataframe\">\n",
       "  <thead>\n",
       "    <tr style=\"text-align: right;\">\n",
       "      <th></th>\n",
       "      <th>contig_id</th>\n",
       "      <th>checkv_quality</th>\n",
       "    </tr>\n",
       "  </thead>\n",
       "  <tbody>\n",
       "  </tbody>\n",
       "</table>\n",
       "</div>"
      ],
      "text/plain": [
       "Empty DataFrame\n",
       "Columns: [contig_id, checkv_quality]\n",
       "Index: []"
      ]
     },
     "execution_count": 139,
     "metadata": {},
     "output_type": "execute_result"
    }
   ],
   "source": [
    "votu_quality = checkv_df[checkv_df.contig_id.isin(votu)].reset_index(drop = True)"
   ]
  },
  {
   "cell_type": "code",
   "execution_count": 151,
   "id": "875ecbf1",
   "metadata": {},
   "outputs": [],
   "source": [
    "with open('/fs/ess/PAS0439/MING/virome/checkv_trimmed_for_dowmstream/checkv/prophage_for_checkv.fasta', 'w') as outfile:\n",
    "    records = SeqIO.parse('/fs/ess/PAS0439/MING/virome/checkv_trimmed_for_dowmstream/vOTU/vOTU_vs2_vibrant_intersection.fa', 'fasta')\n",
    "    for record in records:\n",
    "        if record.name in for_checkv:\n",
    "            SeqIO.write(record, outfile, 'fasta')"
   ]
  },
  {
   "cell_type": "code",
   "execution_count": null,
   "id": "d49bc3d2",
   "metadata": {},
   "outputs": [],
   "source": []
  }
 ],
 "metadata": {
  "kernelspec": {
   "display_name": "MYENV [/fs/ess/PAS0439/MING/conda/MYENV]",
   "language": "python",
   "name": "conda_myenv"
  },
  "language_info": {
   "codemirror_mode": {
    "name": "ipython",
    "version": 3
   },
   "file_extension": ".py",
   "mimetype": "text/x-python",
   "name": "python",
   "nbconvert_exporter": "python",
   "pygments_lexer": "ipython3",
   "version": "3.10.4"
  }
 },
 "nbformat": 4,
 "nbformat_minor": 5
}
