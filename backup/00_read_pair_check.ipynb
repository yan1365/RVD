{
 "cells": [
  {
   "cell_type": "code",
   "execution_count": 1,
   "id": "5feaeee2",
   "metadata": {},
   "outputs": [],
   "source": [
    "import os\n",
    "import glob\n",
    "import pandas as pd\n",
    "import numpy as np"
   ]
  },
  {
   "cell_type": "code",
   "execution_count": 5,
   "id": "fb1ef868",
   "metadata": {},
   "outputs": [],
   "source": [
    "os.chdir('/fs/scratch/PAS0439/02.virome_lzj/01.abundance')"
   ]
  },
  {
   "cell_type": "code",
   "execution_count": 6,
   "id": "fdb3ddcf",
   "metadata": {},
   "outputs": [],
   "source": [
    "res = glob.glob('*.stat')"
   ]
  },
  {
   "cell_type": "code",
   "execution_count": 16,
   "id": "01a69618",
   "metadata": {},
   "outputs": [
    {
     "data": {
      "text/plain": [
       "229944450"
      ]
     },
     "execution_count": 16,
     "metadata": {},
     "output_type": "execute_result"
    }
   ],
   "source": [
    "pd.read_csv('ERR3525318.stat', sep = '\\t', header = None).loc[:,2][0]"
   ]
  },
  {
   "cell_type": "code",
   "execution_count": 17,
   "id": "cc7eb7a2",
   "metadata": {},
   "outputs": [],
   "source": [
    "sample_reads = {}\n",
    "for f in res:\n",
    "    sample = f[:-5]\n",
    "    reads = pd.read_csv(f, sep = '\\t', header = None).loc[:,2][0]\n",
    "    sample_reads[sample] = reads"
   ]
  },
  {
   "cell_type": "code",
   "execution_count": 24,
   "id": "e86ff667",
   "metadata": {},
   "outputs": [],
   "source": [
    "with open('/fs/ess/PAS0439/MING/virome/checkv_trimmed_for_dowmstream/ecology/samples_reads.tsv', 'w') as outfile:\n",
    "    for key, item in sample_reads.items():\n",
    "        outfile.write(key + '\\t' + str(item) + '\\n')\n",
    "    "
   ]
  },
  {
   "cell_type": "code",
   "execution_count": null,
   "id": "825bd376",
   "metadata": {},
   "outputs": [],
   "source": []
  }
 ],
 "metadata": {
  "kernelspec": {
   "display_name": "MYENV [/fs/ess/PAS0439/MING/conda/MYENV]",
   "language": "python",
   "name": "conda_myenv"
  },
  "language_info": {
   "codemirror_mode": {
    "name": "ipython",
    "version": 3
   },
   "file_extension": ".py",
   "mimetype": "text/x-python",
   "name": "python",
   "nbconvert_exporter": "python",
   "pygments_lexer": "ipython3",
   "version": "3.10.4"
  }
 },
 "nbformat": 4,
 "nbformat_minor": 5
}
