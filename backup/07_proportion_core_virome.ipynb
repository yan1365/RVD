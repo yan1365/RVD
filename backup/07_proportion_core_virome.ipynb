{
 "cells": [
  {
   "cell_type": "code",
   "execution_count": 1,
   "id": "4cbb72f3",
   "metadata": {},
   "outputs": [],
   "source": [
    "import os\n",
    "import pandas as pd\n",
    "import glob\n",
    "import numpy as np\n",
    "import re"
   ]
  },
  {
   "cell_type": "code",
   "execution_count": 2,
   "id": "100682bc",
   "metadata": {},
   "outputs": [],
   "source": [
    "os.chdir('/fs/ess/PAS0439/MING/virome/checkv_trimmed_for_dowmstream/ecology')"
   ]
  },
  {
   "cell_type": "code",
   "execution_count": 3,
   "id": "a3ce14f6",
   "metadata": {},
   "outputs": [],
   "source": [
    "table = pd.read_csv('abundance_table_raw.tsv', sep = '\\t')"
   ]
  },
  {
   "cell_type": "code",
   "execution_count": 4,
   "id": "6480340e",
   "metadata": {},
   "outputs": [],
   "source": [
    "grazing_core = list(pd.read_csv('core_virome/core_virome_50_grazing_final.tsv', sep ='\\t')['votu'])\n",
    "beefdairy_core = list(pd.read_csv('core_virome/core_virome_50_beefdairy_final.tsv', sep ='\\t')['votu'])\n",
    "species_core = list(pd.read_csv('core_virome/core_virome_50_species_final.tsv', sep ='\\t')['votu'])"
   ]
  },
  {
   "cell_type": "code",
   "execution_count": 5,
   "id": "3550a0f0",
   "metadata": {},
   "outputs": [],
   "source": [
    "meta = pd.read_csv('../../metadata.csv')"
   ]
  },
  {
   "cell_type": "code",
   "execution_count": 6,
   "id": "21825b6e",
   "metadata": {},
   "outputs": [
    {
     "data": {
      "text/html": [
       "<div>\n",
       "<style scoped>\n",
       "    .dataframe tbody tr th:only-of-type {\n",
       "        vertical-align: middle;\n",
       "    }\n",
       "\n",
       "    .dataframe tbody tr th {\n",
       "        vertical-align: top;\n",
       "    }\n",
       "\n",
       "    .dataframe thead th {\n",
       "        text-align: right;\n",
       "    }\n",
       "</style>\n",
       "<table border=\"1\" class=\"dataframe\">\n",
       "  <thead>\n",
       "    <tr style=\"text-align: right;\">\n",
       "      <th></th>\n",
       "      <th>id</th>\n",
       "      <th>species</th>\n",
       "      <th>beef_or_dairy</th>\n",
       "      <th>grazing_or_not</th>\n",
       "      <th>collection_method</th>\n",
       "      <th>geography</th>\n",
       "      <th>project</th>\n",
       "      <th>file_path</th>\n",
       "    </tr>\n",
       "  </thead>\n",
       "  <tbody>\n",
       "    <tr>\n",
       "      <th>0</th>\n",
       "      <td>ERR2027889</td>\n",
       "      <td>Bos_taurus</td>\n",
       "      <td>beef</td>\n",
       "      <td>no</td>\n",
       "      <td>slau</td>\n",
       "      <td>UK</td>\n",
       "      <td>PRJEB21624</td>\n",
       "      <td>/fs/ess/PAS0439/MING/virome/virus_contigs_keep...</td>\n",
       "    </tr>\n",
       "    <tr>\n",
       "      <th>1</th>\n",
       "      <td>ERR2027890</td>\n",
       "      <td>Bos_taurus</td>\n",
       "      <td>beef</td>\n",
       "      <td>no</td>\n",
       "      <td>slau</td>\n",
       "      <td>UK</td>\n",
       "      <td>PRJEB21624</td>\n",
       "      <td>/fs/ess/PAS0439/MING/virome/virus_contigs_keep...</td>\n",
       "    </tr>\n",
       "    <tr>\n",
       "      <th>2</th>\n",
       "      <td>ERR2027891</td>\n",
       "      <td>Bos_taurus</td>\n",
       "      <td>beef</td>\n",
       "      <td>no</td>\n",
       "      <td>slau</td>\n",
       "      <td>UK</td>\n",
       "      <td>PRJEB21624</td>\n",
       "      <td>/fs/ess/PAS0439/MING/virome/virus_contigs_keep...</td>\n",
       "    </tr>\n",
       "    <tr>\n",
       "      <th>3</th>\n",
       "      <td>ERR2027892</td>\n",
       "      <td>Bos_taurus</td>\n",
       "      <td>beef</td>\n",
       "      <td>no</td>\n",
       "      <td>slau</td>\n",
       "      <td>UK</td>\n",
       "      <td>PRJEB21624</td>\n",
       "      <td>/fs/ess/PAS0439/MING/virome/virus_contigs_keep...</td>\n",
       "    </tr>\n",
       "    <tr>\n",
       "      <th>4</th>\n",
       "      <td>ERR2027893</td>\n",
       "      <td>Bos_taurus</td>\n",
       "      <td>beef</td>\n",
       "      <td>no</td>\n",
       "      <td>slau</td>\n",
       "      <td>UK</td>\n",
       "      <td>PRJEB21624</td>\n",
       "      <td>/fs/ess/PAS0439/MING/virome/virus_contigs_keep...</td>\n",
       "    </tr>\n",
       "    <tr>\n",
       "      <th>...</th>\n",
       "      <td>...</td>\n",
       "      <td>...</td>\n",
       "      <td>...</td>\n",
       "      <td>...</td>\n",
       "      <td>...</td>\n",
       "      <td>...</td>\n",
       "      <td>...</td>\n",
       "      <td>...</td>\n",
       "    </tr>\n",
       "    <tr>\n",
       "      <th>970</th>\n",
       "      <td>SRR12529377</td>\n",
       "      <td>Capra_hircus</td>\n",
       "      <td>na</td>\n",
       "      <td>no</td>\n",
       "      <td>slau</td>\n",
       "      <td>China</td>\n",
       "      <td>PRJNA657455</td>\n",
       "      <td>/fs/ess/PAS0439/MING/virome/virus_contigs_keep...</td>\n",
       "    </tr>\n",
       "    <tr>\n",
       "      <th>971</th>\n",
       "      <td>SRR12529378</td>\n",
       "      <td>Capra_hircus</td>\n",
       "      <td>na</td>\n",
       "      <td>no</td>\n",
       "      <td>slau</td>\n",
       "      <td>China</td>\n",
       "      <td>PRJNA657455</td>\n",
       "      <td>/fs/ess/PAS0439/MING/virome/virus_contigs_keep...</td>\n",
       "    </tr>\n",
       "    <tr>\n",
       "      <th>972</th>\n",
       "      <td>SRR12529379</td>\n",
       "      <td>Capra_hircus</td>\n",
       "      <td>na</td>\n",
       "      <td>no</td>\n",
       "      <td>slau</td>\n",
       "      <td>China</td>\n",
       "      <td>PRJNA657455</td>\n",
       "      <td>/fs/ess/PAS0439/MING/virome/virus_contigs_keep...</td>\n",
       "    </tr>\n",
       "    <tr>\n",
       "      <th>973</th>\n",
       "      <td>SRR12529380</td>\n",
       "      <td>Capra_hircus</td>\n",
       "      <td>na</td>\n",
       "      <td>no</td>\n",
       "      <td>slau</td>\n",
       "      <td>China</td>\n",
       "      <td>PRJNA657455</td>\n",
       "      <td>/fs/ess/PAS0439/MING/virome/virus_contigs_keep...</td>\n",
       "    </tr>\n",
       "    <tr>\n",
       "      <th>974</th>\n",
       "      <td>SRR12529381</td>\n",
       "      <td>Capra_hircus</td>\n",
       "      <td>na</td>\n",
       "      <td>no</td>\n",
       "      <td>slau</td>\n",
       "      <td>China</td>\n",
       "      <td>PRJNA657455</td>\n",
       "      <td>/fs/ess/PAS0439/MING/virome/virus_contigs_keep...</td>\n",
       "    </tr>\n",
       "  </tbody>\n",
       "</table>\n",
       "<p>975 rows × 8 columns</p>\n",
       "</div>"
      ],
      "text/plain": [
       "              id       species beef_or_dairy grazing_or_not collection_method  \\\n",
       "0     ERR2027889    Bos_taurus          beef             no              slau   \n",
       "1     ERR2027890    Bos_taurus          beef             no              slau   \n",
       "2     ERR2027891    Bos_taurus          beef             no              slau   \n",
       "3     ERR2027892    Bos_taurus          beef             no              slau   \n",
       "4     ERR2027893    Bos_taurus          beef             no              slau   \n",
       "..           ...           ...           ...            ...               ...   \n",
       "970  SRR12529377  Capra_hircus            na             no              slau   \n",
       "971  SRR12529378  Capra_hircus            na             no              slau   \n",
       "972  SRR12529379  Capra_hircus            na             no              slau   \n",
       "973  SRR12529380  Capra_hircus            na             no              slau   \n",
       "974  SRR12529381  Capra_hircus            na             no              slau   \n",
       "\n",
       "    geography      project                                          file_path  \n",
       "0          UK   PRJEB21624  /fs/ess/PAS0439/MING/virome/virus_contigs_keep...  \n",
       "1          UK   PRJEB21624  /fs/ess/PAS0439/MING/virome/virus_contigs_keep...  \n",
       "2          UK   PRJEB21624  /fs/ess/PAS0439/MING/virome/virus_contigs_keep...  \n",
       "3          UK   PRJEB21624  /fs/ess/PAS0439/MING/virome/virus_contigs_keep...  \n",
       "4          UK   PRJEB21624  /fs/ess/PAS0439/MING/virome/virus_contigs_keep...  \n",
       "..        ...          ...                                                ...  \n",
       "970     China  PRJNA657455  /fs/ess/PAS0439/MING/virome/virus_contigs_keep...  \n",
       "971     China  PRJNA657455  /fs/ess/PAS0439/MING/virome/virus_contigs_keep...  \n",
       "972     China  PRJNA657455  /fs/ess/PAS0439/MING/virome/virus_contigs_keep...  \n",
       "973     China  PRJNA657455  /fs/ess/PAS0439/MING/virome/virus_contigs_keep...  \n",
       "974     China  PRJNA657455  /fs/ess/PAS0439/MING/virome/virus_contigs_keep...  \n",
       "\n",
       "[975 rows x 8 columns]"
      ]
     },
     "execution_count": 6,
     "metadata": {},
     "output_type": "execute_result"
    }
   ],
   "source": [
    "meta"
   ]
  },
  {
   "cell_type": "code",
   "execution_count": 7,
   "id": "81b16b55",
   "metadata": {},
   "outputs": [
    {
     "data": {
      "text/plain": [
       "species\n",
       "Alces_alces               6\n",
       "Bison_bison               8\n",
       "Bubalus_bubalis           5\n",
       "Capreolus_pygargus        5\n",
       "Cervus_elaphus            5\n",
       "Hydropotes_inermis        5\n",
       "Odocoileus_virginianus    7\n",
       "Rangifer_tarandus         2\n",
       "Name: species, dtype: int64"
      ]
     },
     "execution_count": 7,
     "metadata": {},
     "output_type": "execute_result"
    }
   ],
   "source": [
    "meta[~meta.species.isin(['Bos_taurus', 'Ovis_aries', 'Capra_hircus', 'Bos_grunniens', 'Bos_indicus'])].groupby('species').species.count()"
   ]
  },
  {
   "cell_type": "code",
   "execution_count": 8,
   "id": "d6c68861",
   "metadata": {},
   "outputs": [],
   "source": [
    "beef = list(meta.query('beef_or_dairy == \"beef\" ')['id'])\n",
    "dairy = list(meta.query('beef_or_dairy == \"dairy\" ')['id'])"
   ]
  },
  {
   "cell_type": "code",
   "execution_count": 9,
   "id": "e59f0bb7",
   "metadata": {},
   "outputs": [],
   "source": [
    "beef_mapped = table.loc[:, beef].sum()"
   ]
  },
  {
   "cell_type": "code",
   "execution_count": 10,
   "id": "09c8b81d",
   "metadata": {},
   "outputs": [],
   "source": [
    "beef_core = table[table.Contig.isin(beefdairy_core)].loc[:,beef].sum()"
   ]
  },
  {
   "cell_type": "code",
   "execution_count": 11,
   "id": "24311571",
   "metadata": {},
   "outputs": [],
   "source": [
    "beef_core_abundance = list(beef_core/beef_mapped.tolist())"
   ]
  },
  {
   "cell_type": "code",
   "execution_count": 12,
   "id": "dff552b7",
   "metadata": {},
   "outputs": [],
   "source": [
    "dairy_mapped = table.loc[:, dairy].sum()\n",
    "dairy_core = table[table.Contig.isin(beefdairy_core)].loc[:,dairy].sum()\n",
    "dairy_core_abundance = list(dairy_core/dairy_mapped.tolist())"
   ]
  },
  {
   "cell_type": "code",
   "execution_count": 13,
   "id": "88ad6963",
   "metadata": {},
   "outputs": [],
   "source": [
    "import matplotlib.pyplot as plt\n",
    "import seaborn as sns\n",
    "import scipy\n",
    "import scikit_posthocs as sp\n",
    "from matplotlib import rcParams"
   ]
  },
  {
   "cell_type": "code",
   "execution_count": 14,
   "id": "e1a5d6b3",
   "metadata": {},
   "outputs": [],
   "source": [
    "beefdairy_df = pd.DataFrame({'category': ['Dairy']*len(dairy_core_abundance) + ['Beef']*len(beef_core_abundance), 'abundance':dairy_core_abundance + beef_core_abundance})"
   ]
  },
  {
   "cell_type": "code",
   "execution_count": 32,
   "id": "1443234a",
   "metadata": {},
   "outputs": [
    {
     "data": {
      "image/png": "[encoded data removed]",
      "text/plain": [
       "<Figure size 115.2x144 with 1 Axes>"
      ]
     },
     "metadata": {
      "needs_background": "light"
     },
     "output_type": "display_data"
    }
   ],
   "source": [
    "rcParams['figure.figsize'] = 1.6,2\n",
    "ax = sns.boxplot(x = 'category', y='abundance', data= beefdairy_df, fliersize = 0)\n",
    "ax = sns.stripplot(x = 'category', y='abundance', data= beefdairy_df, color=\"black\", jitter=0.2, size=2.5)\n",
    "ax.set(xlabel='', ylabel='', yticklabels='', xticklabels='')\n",
    "\n",
    "plt.savefig('beefdairy_core_abundance.svg', facecolor = 'w', edgecolor = 'w')"
   ]
  },
  {
   "cell_type": "code",
   "execution_count": 30,
   "id": "8586cf11",
   "metadata": {},
   "outputs": [
    {
     "data": {
      "image/png": "[encoded data removed]",
      "text/plain": [
       "<Figure size 230.4x144 with 1 Axes>"
      ]
     },
     "metadata": {
      "needs_background": "light"
     },
     "output_type": "display_data"
    }
   ],
   "source": [
    "sheep = list(meta.query('species == \"Ovis_aries\" ')['id'])\n",
    "sheep_mapped = table.loc[:, sheep].sum()\n",
    "sheep_core = table[table.Contig.isin(species_core)].loc[:,sheep].sum()\n",
    "sheep_core_abundance = list(sheep_core/sheep_mapped.tolist())\n",
    "\n",
    "cattle = list(meta.query('species == \"Bos_taurus\" ')['id'])\n",
    "cattle_mapped = table.loc[:, cattle].sum()\n",
    "cattle_core = table[table.Contig.isin(species_core)].loc[:,cattle].sum()\n",
    "cattle_core_abundance = list(cattle_core/cattle_mapped.tolist())\n",
    "\n",
    "goat = list(meta.query('species == \"Capra_hircus\" ')['id'])\n",
    "goat_mapped = table.loc[:, goat].sum()\n",
    "goat_core = table[table.Contig.isin(species_core)].loc[:,goat].sum()\n",
    "goat_core_abundance = list(goat_core/goat_mapped.tolist())\n",
    "\n",
    "wild = list(meta[~meta.species.isin(['Bos_taurus', 'Ovis_aries', 'Capra_hircus', 'Bos_grunniens', 'Bos_indicus','Bubalus_bubalis'])]['id'])\n",
    "wild_mapped = table.loc[:, wild].sum()\n",
    "wild_core = table[table.Contig.isin(species_core)].loc[:,wild].sum()\n",
    "wild_core_abundance = list(wild_core/wild_mapped.tolist())\n",
    "\n",
    "species_df = pd.DataFrame({'category': ['Sheep']*len(sheep_core_abundance) + ['Cattle']*len(cattle_core_abundance) + ['Goat']*len(goat_core_abundance) + ['Wild']*len(wild_core_abundance), 'abundance':sheep_core_abundance + cattle_core_abundance + goat_core_abundance + wild_core_abundance})\n",
    "rcParams['figure.figsize'] = 3.2,2\n",
    "\n",
    "ax = sns.boxplot(x = 'category', y='abundance', data= species_df, fliersize = 0)\n",
    "ax = sns.stripplot(x = 'category', y='abundance', data= species_df, color=\"black\", jitter=0.2, size=2.5)\n",
    "ax.set(xlabel='',ylabel='', yticklabels='', xticklabels='')\n",
    "\n",
    "plt.savefig('species_core_abundance.svg', facecolor = 'w', edgecolor = 'w')"
   ]
  },
  {
   "cell_type": "code",
   "execution_count": 31,
   "id": "fd676d32",
   "metadata": {},
   "outputs": [
    {
     "data": {
      "image/png": "[encoded data removed]",
      "text/plain": [
       "<Figure size 115.2x144 with 1 Axes>"
      ]
     },
     "metadata": {
      "needs_background": "light"
     },
     "output_type": "display_data"
    }
   ],
   "source": [
    "graze = list(meta.query('grazing_or_not == \"yes\" ')['id'])\n",
    "graze_mapped = table.loc[:, graze].sum()\n",
    "graze_core = table[table.Contig.isin(grazing_core)].loc[:,graze].sum()\n",
    "graze_core_abundance = list(graze_core/graze_mapped.tolist())\n",
    "\n",
    "non = list(meta.query('grazing_or_not == \"no\" ')['id'])\n",
    "non_mapped = table.loc[:, non].sum()\n",
    "non_core = table[table.Contig.isin(grazing_core)].loc[:,non].sum()\n",
    "non_core_abundance = list(non_core/non_mapped.tolist())\n",
    "\n",
    "grazing_df = pd.DataFrame({'category': ['Non-grazing']*len(non_core_abundance) + ['Grazing']*len(graze_core_abundance), 'abundance':non_core_abundance + graze_core_abundance})\n",
    "rcParams['figure.figsize'] = 1.6,2\n",
    "ax = sns.boxplot(x = 'category', y='abundance', data= grazing_df, fliersize = 0)\n",
    "ax = sns.stripplot(x = 'category', y='abundance', data= grazing_df, color=\"black\", jitter=0.2, size=2.5)\n",
    "ax.set(xlabel='', ylabel='', yticklabels='', xticklabels='')\n",
    "\n",
    "plt.savefig('grazing_core_abundance.svg', facecolor = 'w', edgecolor = 'w')"
   ]
  },
  {
   "cell_type": "code",
   "execution_count": null,
   "id": "05b5e0d1",
   "metadata": {},
   "outputs": [],
   "source": []
  }
 ],
 "metadata": {
  "kernelspec": {
   "display_name": "MYENV [/fs/ess/PAS0439/MING/conda/MYENV]",
   "language": "python",
   "name": "conda_myenv"
  },
  "language_info": {
   "codemirror_mode": {
    "name": "ipython",
    "version": 3
   },
   "file_extension": ".py",
   "mimetype": "text/x-python",
   "name": "python",
   "nbconvert_exporter": "python",
   "pygments_lexer": "ipython3",
   "version": "3.10.4"
  }
 },
 "nbformat": 4,
 "nbformat_minor": 5
}
