{
 "cells": [
  {
   "cell_type": "code",
   "execution_count": 2,
   "id": "bffb3295",
   "metadata": {},
   "outputs": [],
   "source": [
    "import os\n",
    "import pandas as pd\n",
    "import numpy as np\n",
    "import matplotlib.pyplot as plt \n",
    "import glob\n",
    "import seaborn as sns\n",
    "import math\n",
    "from matplotlib.pyplot import figure"
   ]
  },
  {
   "cell_type": "code",
   "execution_count": 3,
   "id": "f8cacbe6",
   "metadata": {},
   "outputs": [],
   "source": [
    "os.chdir('/fs/ess/PAS0439/MING/virome/checkv_trimmed_for_dowmstream/ecology/core_virome')"
   ]
  },
  {
   "cell_type": "code",
   "execution_count": 4,
   "id": "4f4ce8e6",
   "metadata": {},
   "outputs": [],
   "source": [
    "species_df_list = []\n",
    "species = ['sheep', 'cattle', 'goat', 'wild']\n",
    "res = [f + '_df_category.tsv' for f in species]\n",
    "for f in res:\n",
    "    name=f.split('_')[0]\n",
    "    df = pd.read_csv(f, sep='\\t')\n",
    "    df['treatment'] = name\n",
    "    df.set_index('category', inplace=True)\n",
    "    df = df.loc[['individualized', 'rare', 'common', 'core']].reset_index()\n",
    "    species_df_list.append(df)\n",
    "    "
   ]
  },
  {
   "cell_type": "code",
   "execution_count": 5,
   "id": "3b269c3f",
   "metadata": {},
   "outputs": [],
   "source": [
    "species_df = pd.concat(species_df_list).reset_index(drop = True)"
   ]
  },
  {
   "cell_type": "code",
   "execution_count": 6,
   "id": "c8dc335d",
   "metadata": {},
   "outputs": [],
   "source": [
    "grazing_df_list = []\n",
    "grazing = ['non', 'grazing']\n",
    "res = [f + '_df_category.tsv' for f in grazing]\n",
    "for f in res:\n",
    "    name=f.split('_')[0]\n",
    "    df = pd.read_csv(f, sep='\\t')\n",
    "    df['treatment'] = name\n",
    "    df.set_index('category', inplace=True)\n",
    "    df = df.loc[['individualized', 'rare', 'common', 'core']].reset_index()\n",
    "    grazing_df_list.append(df)\n",
    "    \n",
    "grazing_df = pd.concat(grazing_df_list).reset_index(drop = True)\n",
    "\n"
   ]
  },
  {
   "cell_type": "code",
   "execution_count": 7,
   "id": "9fd96ca6",
   "metadata": {},
   "outputs": [],
   "source": [
    "grazing_df.loc[grazing_df.query('treatment == \"non\"').index, 'treatment'] = 'non-grazing'"
   ]
  },
  {
   "cell_type": "code",
   "execution_count": 13,
   "id": "fff83ef6",
   "metadata": {},
   "outputs": [
    {
     "data": {
      "image/png": "[encoded data removed]",
      "text/plain": [
       "<Figure size 216x144 with 1 Axes>"
      ]
     },
     "metadata": {},
     "output_type": "display_data"
    }
   ],
   "source": [
    "sns.set_style('whitegrid')\n",
    "plt.rcParams[\"figure.figsize\"] = (2,2)\n",
    "sns.barplot(x = grazing_df[\"treatment\"], y = [math.log(f,10) for f in grazing_df[\"count\"]], hue = \"category\", data= species_df)\n",
    "plt.legend([],[], frameon=False)\n",
    "plt.xlabel('')\n",
    "plt.ylabel('')\n",
    "plt.yticks(fontsize = 7)\n",
    "plt.xticks([])\n",
    "#plt.yticks([])\n",
    "\n",
    "plt.tight_layout()\n",
    "\n",
    "plt.savefig('grazing_virome_category.svg', transparent=True)"
   ]
  },
  {
   "cell_type": "code",
   "execution_count": 9,
   "id": "5c08f483",
   "metadata": {},
   "outputs": [],
   "source": [
    "cattle_df_list = []\n",
    "cattle = ['dairy', 'beef']\n",
    "res = [f + '_df_category.tsv' for f in cattle]\n",
    "for f in res:\n",
    "    name=f.split('_')[0]\n",
    "    df = pd.read_csv(f, sep='\\t')\n",
    "    df['treatment'] = name\n",
    "    df.set_index('category', inplace=True)\n",
    "    df = df.loc[['individualized', 'rare', 'common', 'core']].reset_index()\n",
    "    cattle_df_list.append(df)\n",
    "    \n",
    "cattle_df = pd.concat(cattle_df_list).reset_index(drop = True)"
   ]
  },
  {
   "cell_type": "code",
   "execution_count": 10,
   "id": "257fe70f",
   "metadata": {},
   "outputs": [
    {
     "data": {
      "text/html": [
       "<div>\n",
       "<style scoped>\n",
       "    .dataframe tbody tr th:only-of-type {\n",
       "        vertical-align: middle;\n",
       "    }\n",
       "\n",
       "    .dataframe tbody tr th {\n",
       "        vertical-align: top;\n",
       "    }\n",
       "\n",
       "    .dataframe thead th {\n",
       "        text-align: right;\n",
       "    }\n",
       "</style>\n",
       "<table border=\"1\" class=\"dataframe\">\n",
       "  <thead>\n",
       "    <tr style=\"text-align: right;\">\n",
       "      <th></th>\n",
       "      <th>category</th>\n",
       "      <th>count</th>\n",
       "      <th>treatment</th>\n",
       "    </tr>\n",
       "  </thead>\n",
       "  <tbody>\n",
       "    <tr>\n",
       "      <th>0</th>\n",
       "      <td>individualized</td>\n",
       "      <td>29627</td>\n",
       "      <td>dairy</td>\n",
       "    </tr>\n",
       "    <tr>\n",
       "      <th>1</th>\n",
       "      <td>rare</td>\n",
       "      <td>42148</td>\n",
       "      <td>dairy</td>\n",
       "    </tr>\n",
       "    <tr>\n",
       "      <th>2</th>\n",
       "      <td>common</td>\n",
       "      <td>1494</td>\n",
       "      <td>dairy</td>\n",
       "    </tr>\n",
       "    <tr>\n",
       "      <th>3</th>\n",
       "      <td>core</td>\n",
       "      <td>213</td>\n",
       "      <td>dairy</td>\n",
       "    </tr>\n",
       "    <tr>\n",
       "      <th>4</th>\n",
       "      <td>individualized</td>\n",
       "      <td>55670</td>\n",
       "      <td>beef</td>\n",
       "    </tr>\n",
       "    <tr>\n",
       "      <th>5</th>\n",
       "      <td>rare</td>\n",
       "      <td>100676</td>\n",
       "      <td>beef</td>\n",
       "    </tr>\n",
       "    <tr>\n",
       "      <th>6</th>\n",
       "      <td>common</td>\n",
       "      <td>1448</td>\n",
       "      <td>beef</td>\n",
       "    </tr>\n",
       "    <tr>\n",
       "      <th>7</th>\n",
       "      <td>core</td>\n",
       "      <td>164</td>\n",
       "      <td>beef</td>\n",
       "    </tr>\n",
       "  </tbody>\n",
       "</table>\n",
       "</div>"
      ],
      "text/plain": [
       "         category   count treatment\n",
       "0  individualized   29627     dairy\n",
       "1            rare   42148     dairy\n",
       "2          common    1494     dairy\n",
       "3            core     213     dairy\n",
       "4  individualized   55670      beef\n",
       "5            rare  100676      beef\n",
       "6          common    1448      beef\n",
       "7            core     164      beef"
      ]
     },
     "execution_count": 10,
     "metadata": {},
     "output_type": "execute_result"
    }
   ],
   "source": [
    "cattle_df"
   ]
  },
  {
   "cell_type": "code",
   "execution_count": 14,
   "id": "9a6a4018",
   "metadata": {},
   "outputs": [
    {
     "data": {
      "image/png": "[encoded data removed]",
      "text/plain": [
       "<Figure size 144x144 with 1 Axes>"
      ]
     },
     "metadata": {},
     "output_type": "display_data"
    }
   ],
   "source": [
    "sns.set_style('whitegrid')\n",
    "plt.rcParams[\"figure.figsize\"] = (3,2)\n",
    "sns.barplot(x = species_df[\"treatment\"], y = [math.log(f,10) for f in species_df[\"count\"]], hue = \"category\", data= species_df)\n",
    "plt.legend([],[], frameon=False)\n",
    "plt.xlabel('')\n",
    "plt.ylabel('', fontsize=7)\n",
    "plt.xticks([])\n",
    "#plt.yticks([])\n",
    "#plt.yticks(fontsize = 7)\n",
    "\n",
    "plt.tight_layout()\n",
    "\n",
    "plt.savefig('species_virome_category.svg', transparent=True)"
   ]
  },
  {
   "cell_type": "code",
   "execution_count": 15,
   "id": "41445017",
   "metadata": {},
   "outputs": [
    {
     "data": {
      "image/png": "[encoded data removed]",
      "text/plain": [
       "<Figure size 216x144 with 1 Axes>"
      ]
     },
     "metadata": {},
     "output_type": "display_data"
    }
   ],
   "source": [
    "sns.set_style('whitegrid')\n",
    "plt.rcParams[\"figure.figsize\"] = (2,2)\n",
    "sns.barplot(x = cattle_df[\"treatment\"], y = [math.log(f,10) for f in cattle_df[\"count\"]], hue = \"category\", data= cattle_df)\n",
    "plt.legend([],[], frameon=False)\n",
    "plt.xlabel('')\n",
    "plt.ylabel('')\n",
    "#plt.yticks(fontsize = 7)\n",
    "plt.xticks([])\n",
    "#plt.yticks([])\n",
    "\n",
    "plt.tight_layout()\n",
    "\n",
    "plt.savefig('cattle_virome_category.svg', transparent=True)"
   ]
  },
  {
   "cell_type": "code",
   "execution_count": null,
   "id": "1e4a53bc",
   "metadata": {},
   "outputs": [],
   "source": []
  }
 ],
 "metadata": {
  "kernelspec": {
   "display_name": "MYENV [/fs/ess/PAS0439/MING/conda/MYENV]",
   "language": "python",
   "name": "conda_myenv"
  },
  "language_info": {
   "codemirror_mode": {
    "name": "ipython",
    "version": 3
   },
   "file_extension": ".py",
   "mimetype": "text/x-python",
   "name": "python",
   "nbconvert_exporter": "python",
   "pygments_lexer": "ipython3",
   "version": "3.10.4"
  }
 },
 "nbformat": 4,
 "nbformat_minor": 5
}
