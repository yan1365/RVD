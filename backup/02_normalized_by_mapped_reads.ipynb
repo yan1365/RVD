{
 "cells": [
  {
   "cell_type": "code",
   "execution_count": 1,
   "id": "ded0f83b",
   "metadata": {},
   "outputs": [],
   "source": [
    "import os\n",
    "import pandas as pd\n",
    "import numpy as np\n",
    "import re\n",
    "import glob"
   ]
  },
  {
   "cell_type": "code",
   "execution_count": 2,
   "id": "a446b549",
   "metadata": {},
   "outputs": [],
   "source": [
    "os.chdir('/fs/ess/PAS0439/MING/virome/checkv_trimmed_for_dowmstream/ecology')"
   ]
  },
  {
   "cell_type": "code",
   "execution_count": 3,
   "id": "0429c99f",
   "metadata": {},
   "outputs": [],
   "source": [
    "raw = pd.read_csv('abundance_table_raw.tsv', sep='\\t')"
   ]
  },
  {
   "cell_type": "code",
   "execution_count": 4,
   "id": "6bfbe87d",
   "metadata": {},
   "outputs": [],
   "source": [
    "raw.set_index('Contig', inplace = True)"
   ]
  },
  {
   "cell_type": "code",
   "execution_count": 5,
   "id": "9dc9eaf9",
   "metadata": {},
   "outputs": [],
   "source": [
    "#for f in *.stat; do echo ${f%.stat}  $(cut -f 2 ${f}); done> /fs/ess/PAS0439/MING/virome/checkv_trimmed_for_dowmstream/ecology/reads_mapped.txt"
   ]
  },
  {
   "cell_type": "code",
   "execution_count": 23,
   "id": "74e24d9c",
   "metadata": {},
   "outputs": [],
   "source": [
    "samples = glob.glob('../scripts/ecology/*.out')"
   ]
  },
  {
   "cell_type": "code",
   "execution_count": 24,
   "id": "1306db77",
   "metadata": {},
   "outputs": [],
   "source": [
    "basepair = {}\n",
    "for sample in samples:\n",
    "    with open(sample, 'r') as file:\n",
    "        lines = file.readlines()\n",
    "\n",
    "        for f in range(int(len(lines)/5)):\n",
    "            if re.search(r'[a-zA-Z]*.*', lines[f]):\n",
    "                sample = lines[f*5].strip()\n",
    "                forward = int(lines[5*f+1]) - int(lines[5*f+2])\n",
    "                reverse = int(lines[5*f+3]) - int(lines[5*f+4])\n",
    "                bp = forward + reverse\n",
    "                basepair[sample] = bp"
   ]
  },
  {
   "cell_type": "code",
   "execution_count": 31,
   "id": "c816324b",
   "metadata": {},
   "outputs": [],
   "source": [
    "# normalized by trimmed_mean*1000000000/read bases\n",
    "normalized = raw.copy()\n",
    "mysamples = basepair.keys()\n",
    "for mysample in mysamples:\n",
    "    normalized[mysample] = normalized[mysample]/basepair[mysample]*1000000000\n",
    "   "
   ]
  },
  {
   "cell_type": "code",
   "execution_count": 38,
   "id": "9f2fbdb6",
   "metadata": {},
   "outputs": [],
   "source": [
    "normalized.to_csv('/fs/scratch/PAS0439/abundance_table_normalized.csv')"
   ]
  },
  {
   "cell_type": "code",
   "execution_count": 39,
   "id": "80eeb30a",
   "metadata": {},
   "outputs": [],
   "source": [
    "raw.to_csv('/fs/scratch/PAS0439/abundance_table_raw.csv')"
   ]
  },
  {
   "cell_type": "code",
   "execution_count": 42,
   "id": "30f57e86",
   "metadata": {},
   "outputs": [],
   "source": [
    "with open('samples_basepair.txt' , 'w') as file:\n",
    "    for key, value in basepair.items():\n",
    "        file.write(key + '\\t' + str(value) + '\\n')"
   ]
  },
  {
   "cell_type": "code",
   "execution_count": null,
   "id": "f4e305de",
   "metadata": {},
   "outputs": [],
   "source": []
  }
 ],
 "metadata": {
  "kernelspec": {
   "display_name": "MYENV [/fs/ess/PAS0439/MING/conda/MYENV]",
   "language": "python",
   "name": "conda_myenv"
  },
  "language_info": {
   "codemirror_mode": {
    "name": "ipython",
    "version": 3
   },
   "file_extension": ".py",
   "mimetype": "text/x-python",
   "name": "python",
   "nbconvert_exporter": "python",
   "pygments_lexer": "ipython3",
   "version": "3.10.4"
  }
 },
 "nbformat": 4,
 "nbformat_minor": 5
}
