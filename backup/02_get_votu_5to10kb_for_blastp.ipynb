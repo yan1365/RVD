{
 "cells": [
  {
   "cell_type": "code",
   "execution_count": 1,
   "id": "5a668826",
   "metadata": {},
   "outputs": [],
   "source": [
    "import os\n",
    "import pandas as pd\n",
    "import numpy as np\n",
    "from Bio import SeqIO\n",
    "import glob\n",
    "import re"
   ]
  },
  {
   "cell_type": "code",
   "execution_count": 2,
   "id": "2c09a274",
   "metadata": {},
   "outputs": [],
   "source": [
    "os.chdir('/fs/ess/PAS0439/MING/virome/checkv_trimmed_for_dowmstream/vOTU')"
   ]
  },
  {
   "cell_type": "code",
   "execution_count": 17,
   "id": "801b3f01",
   "metadata": {},
   "outputs": [],
   "source": [
    "votu10kb = SeqIO.parse('vOTU_10kb_vs2_vibrant_intersection.fa' ,'fasta')"
   ]
  },
  {
   "cell_type": "code",
   "execution_count": 18,
   "id": "6602b0f6",
   "metadata": {},
   "outputs": [],
   "source": [
    "votu5kb = SeqIO.parse('vOTU_vs2_vibrant_intersection.fa' ,'fasta')"
   ]
  },
  {
   "cell_type": "code",
   "execution_count": 19,
   "id": "ba658300",
   "metadata": {},
   "outputs": [],
   "source": [
    "seq_10kb = []\n",
    "for record in votu10kb:\n",
    "    seq_10kb.append(record.name)"
   ]
  },
  {
   "cell_type": "code",
   "execution_count": 20,
   "id": "a897a73d",
   "metadata": {},
   "outputs": [],
   "source": [
    "seq_5kb = []\n",
    "for record in votu5kb:\n",
    "    seq_5kb.append(record.name)"
   ]
  },
  {
   "cell_type": "code",
   "execution_count": 21,
   "id": "871af719",
   "metadata": {},
   "outputs": [],
   "source": [
    "votu_below_10kb = list(set(seq_5kb) - set(seq_10kb))"
   ]
  },
  {
   "cell_type": "code",
   "execution_count": 25,
   "id": "2ba923cd",
   "metadata": {},
   "outputs": [],
   "source": [
    "votu5kb = SeqIO.parse('vOTU_vs2_vibrant_intersection.fa' ,'fasta')\n",
    "with open('vOTU_below_10kb_for_blastp.fa', 'w') as outfile:\n",
    "    for record in votu5kb:\n",
    "        if record.name in votu_below_10kb:\n",
    "            SeqIO.write(record, outfile, 'fasta')"
   ]
  },
  {
   "cell_type": "code",
   "execution_count": null,
   "id": "dfcea85e",
   "metadata": {},
   "outputs": [],
   "source": []
  }
 ],
 "metadata": {
  "kernelspec": {
   "display_name": "MYENV [/fs/ess/PAS0439/MING/conda/MYENV]",
   "language": "python",
   "name": "conda_myenv"
  },
  "language_info": {
   "codemirror_mode": {
    "name": "ipython",
    "version": 3
   },
   "file_extension": ".py",
   "mimetype": "text/x-python",
   "name": "python",
   "nbconvert_exporter": "python",
   "pygments_lexer": "ipython3",
   "version": "3.10.4"
  }
 },
 "nbformat": 4,
 "nbformat_minor": 5
}
