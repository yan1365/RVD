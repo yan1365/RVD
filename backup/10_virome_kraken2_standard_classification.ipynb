{
 "cells": [
  {
   "cell_type": "code",
   "execution_count": 1,
   "id": "8cc0e139",
   "metadata": {},
   "outputs": [],
   "source": [
    "import os\n",
    "import glob\n",
    "import pandas as pd\n",
    "import re"
   ]
  },
  {
   "cell_type": "code",
   "execution_count": 2,
   "id": "c43f54b3",
   "metadata": {},
   "outputs": [],
   "source": [
    "os.chdir('/fs/scratch/PAS0439/Ming/virome_ecology/results/01_k2_standard_mapping')"
   ]
  },
  {
   "cell_type": "code",
   "execution_count": 3,
   "id": "9216a26c",
   "metadata": {},
   "outputs": [],
   "source": [
    "sample = []\n",
    "mapping_rate = []\n",
    "with open('Viruses_classification_rate_k2.output', 'r') as file:\n",
    "    for line in file.readlines():\n",
    "        if 'report' in line:\n",
    "            id = line.split('.report')[0]\n",
    "            sample.append(id)\n",
    "        else:\n",
    "            number = line.split()[0]\n",
    "            mapping_rate.append(number)\n",
    "            \n",
    "            \n",
    "            \n",
    "            "
   ]
  },
  {
   "cell_type": "code",
   "execution_count": 14,
   "id": "6cf877de",
   "metadata": {},
   "outputs": [],
   "source": [
    "df_dict = {'sample': sample, 'kraken_mapping': mapping_rate}"
   ]
  },
  {
   "cell_type": "code",
   "execution_count": 15,
   "id": "e0f61f82",
   "metadata": {},
   "outputs": [],
   "source": [
    "df = pd.DataFrame(data = df_dict)"
   ]
  },
  {
   "cell_type": "code",
   "execution_count": 16,
   "id": "9042779c",
   "metadata": {},
   "outputs": [],
   "source": [
    "df.to_csv('/fs/scratch/PAS0439/kraken2_virus_mapping.tsv', sep = '\\t', index = None)"
   ]
  },
  {
   "cell_type": "code",
   "execution_count": null,
   "id": "78465615",
   "metadata": {},
   "outputs": [],
   "source": []
  }
 ],
 "metadata": {
  "kernelspec": {
   "display_name": "MYENV [/fs/ess/PAS0439/MING/conda/MYENV]",
   "language": "python",
   "name": "conda_myenv"
  },
  "language_info": {
   "codemirror_mode": {
    "name": "ipython",
    "version": 3
   },
   "file_extension": ".py",
   "mimetype": "text/x-python",
   "name": "python",
   "nbconvert_exporter": "python",
   "pygments_lexer": "ipython3",
   "version": "3.10.4"
  }
 },
 "nbformat": 4,
 "nbformat_minor": 5
}
