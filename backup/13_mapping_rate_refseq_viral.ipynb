{
 "cells": [
  {
   "cell_type": "code",
   "execution_count": 1,
   "id": "cc4d8dbd",
   "metadata": {},
   "outputs": [],
   "source": [
    "import os\n",
    "import glob\n",
    "import numpy as np\n",
    "import re\n",
    "import pandas as pd"
   ]
  },
  {
   "cell_type": "code",
   "execution_count": 2,
   "id": "895a5d8d",
   "metadata": {},
   "outputs": [],
   "source": [
    "os.chdir('/fs/scratch/PAS0439/Ming/virome_res/reads_for_mapping_rate_comparison/clean_reads')"
   ]
  },
  {
   "cell_type": "code",
   "execution_count": 3,
   "id": "439316b5",
   "metadata": {},
   "outputs": [],
   "source": [
    "img = glob.glob('coverm_imgvr_*.out')"
   ]
  },
  {
   "cell_type": "code",
   "execution_count": 5,
   "id": "6c937d44",
   "metadata": {},
   "outputs": [],
   "source": [
    "mapping_rate = {}\n",
    "for file in img:\n",
    "    with open(file, 'r') as infile:\n",
    "        lines = infile.readlines()\n",
    "        for line in lines:\n",
    "            if 'In sample' in line:\n",
    "                sample = re.search(r'.*imgvr_host_associated.fa/(.*)_1.fastq_clean.gz.*', line).group(1)\n",
    "                result = re.search(r'.*\\(([0-9.]*)%\\)$', line).group(1)\n",
    "                mapping_rate[sample] = result\n",
    "                \n",
    "                "
   ]
  },
  {
   "cell_type": "code",
   "execution_count": 6,
   "id": "6cbb4abd",
   "metadata": {},
   "outputs": [],
   "source": [
    "imgvr_mapping = pd.DataFrame.from_dict(mapping_rate, orient= 'index').reset_index().rename(columns={'index': 'id', 0:'imgvr'})"
   ]
  },
  {
   "cell_type": "code",
   "execution_count": 20,
   "id": "618ab5d9",
   "metadata": {},
   "outputs": [],
   "source": [
    "#imgvr_mapping.to_csv('/fs/scratch/PAS0439/imgvr_virus_mapping.tsv', index=None, sep='\\t')"
   ]
  },
  {
   "cell_type": "code",
   "execution_count": 7,
   "id": "6bad1607",
   "metadata": {},
   "outputs": [],
   "source": [
    "mylist = [float(f) for f in list(imgvr_mapping['imgvr'])]"
   ]
  },
  {
   "cell_type": "code",
   "execution_count": 8,
   "id": "b433213a",
   "metadata": {},
   "outputs": [
    {
     "data": {
      "text/plain": [
       "1.037142857142857"
      ]
     },
     "execution_count": 8,
     "metadata": {},
     "output_type": "execute_result"
    }
   ],
   "source": [
    "sum(mylist)/len(mylist)"
   ]
  },
  {
   "cell_type": "code",
   "execution_count": 11,
   "id": "0e30711e",
   "metadata": {},
   "outputs": [
    {
     "data": {
      "text/plain": [
       "2.268979591836734"
      ]
     },
     "execution_count": 11,
     "metadata": {},
     "output_type": "execute_result"
    }
   ],
   "source": [
    "rvd = glob.glob('coverm_rvd_*.out')\n",
    "mapping_rate_rvd = {}\n",
    "for file in rvd:\n",
    "    with open(file, 'r') as infile:\n",
    "        lines = infile.readlines()\n",
    "        for line in lines:\n",
    "            if 'In sample' in line:\n",
    "                sample = re.search(r'.*vOTU_vs2_vibrant_intersection.fa/(.*)_1.fastq_clean.gz.*', line).group(1)\n",
    "                result = re.search(r'.*\\(([0-9.]*)%\\)$', line).group(1)\n",
    "                mapping_rate_rvd[sample] = result\n",
    "\n",
    "rvd_mapping = pd.DataFrame.from_dict(mapping_rate_rvd, orient= 'index').reset_index().rename(columns={'index': 'id', 0:'imgvr'})\n",
    "mylist = [float(f) for f in list(rvd_mapping['imgvr'])]  \n",
    "sum(mylist)/len(mylist)\n",
    "                "
   ]
  },
  {
   "cell_type": "code",
   "execution_count": null,
   "id": "e466716e",
   "metadata": {},
   "outputs": [],
   "source": []
  }
 ],
 "metadata": {
  "kernelspec": {
   "display_name": "MYENV [/fs/ess/PAS0439/MING/conda/MYENV]",
   "language": "python",
   "name": "conda_myenv"
  },
  "language_info": {
   "codemirror_mode": {
    "name": "ipython",
    "version": 3
   },
   "file_extension": ".py",
   "mimetype": "text/x-python",
   "name": "python",
   "nbconvert_exporter": "python",
   "pygments_lexer": "ipython3",
   "version": "3.10.4"
  }
 },
 "nbformat": 4,
 "nbformat_minor": 5
}
