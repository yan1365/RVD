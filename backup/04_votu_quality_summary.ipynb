{
 "cells": [
  {
   "cell_type": "code",
   "execution_count": 1,
   "id": "4453cdc8",
   "metadata": {},
   "outputs": [],
   "source": [
    "import os\n",
    "import pandas as pd\n",
    "import numpy as np\n",
    "import re\n",
    "import glob\n",
    "from Bio import SeqIO"
   ]
  },
  {
   "cell_type": "code",
   "execution_count": 2,
   "id": "2a1d12ee",
   "metadata": {},
   "outputs": [],
   "source": [
    "os.chdir('/fs/ess/PAS0439/MING/virome/checkv_res')"
   ]
  },
  {
   "cell_type": "code",
   "execution_count": 3,
   "id": "d263697e",
   "metadata": {},
   "outputs": [],
   "source": [
    "checkv_full = glob.glob('**/quality_summary.tsv', recursive=True)\n",
    "checkv_list_full = []\n",
    "for res in checkv_full:\n",
    "    df = pd.read_csv(res, sep = '\\t').query('contig_length > 5000')[['contig_id', 'checkv_quality']]\n",
    "    checkv_list_full.append(df)\n",
    "checkv_df_full = pd.concat(checkv_list_full)"
   ]
  },
  {
   "cell_type": "code",
   "execution_count": 4,
   "id": "c97bc4a8",
   "metadata": {},
   "outputs": [],
   "source": [
    "checkv_partial = pd.read_csv('/fs/ess/PAS0439/MING/virome/checkv_trimmed_for_dowmstream/checkv/checkv_output/quality_summary.tsv', sep = '\\t').query('contig_length > 5000')[['contig_id', 'checkv_quality']]"
   ]
  },
  {
   "cell_type": "code",
   "execution_count": 5,
   "id": "b88da520",
   "metadata": {},
   "outputs": [],
   "source": [
    "votu = []\n",
    "records = SeqIO.parse('/fs/ess/PAS0439/MING/virome/checkv_trimmed_for_dowmstream/vOTU/vOTU_vs2_vibrant_intersection.fa', 'fasta')\n",
    "for record in records:\n",
    "    votu.append(record.name)"
   ]
  },
  {
   "cell_type": "code",
   "execution_count": 6,
   "id": "7c60aa45",
   "metadata": {},
   "outputs": [],
   "source": [
    "checkv_full = checkv_df_full[checkv_df_full.contig_id.isin(votu)]"
   ]
  },
  {
   "cell_type": "code",
   "execution_count": 35,
   "id": "e27e2bb8",
   "metadata": {},
   "outputs": [],
   "source": [
    "checkv = pd.concat([checkv_full, checkv_partial]).reset_index(drop = True)"
   ]
  },
  {
   "cell_type": "code",
   "execution_count": 36,
   "id": "00e7cf7a",
   "metadata": {},
   "outputs": [],
   "source": [
    "#checkv.to_csv('/fs/ess/PAS0439/MING/virome/checkv_trimmed_for_dowmstream/checkv/output/checkv_quality_summary.tsv', sep = '\\t', index = None)"
   ]
  },
  {
   "cell_type": "code",
   "execution_count": 37,
   "id": "b4f86c18",
   "metadata": {},
   "outputs": [
    {
     "data": {
      "text/html": [
       "<div>\n",
       "<style scoped>\n",
       "    .dataframe tbody tr th:only-of-type {\n",
       "        vertical-align: middle;\n",
       "    }\n",
       "\n",
       "    .dataframe tbody tr th {\n",
       "        vertical-align: top;\n",
       "    }\n",
       "\n",
       "    .dataframe thead th {\n",
       "        text-align: right;\n",
       "    }\n",
       "</style>\n",
       "<table border=\"1\" class=\"dataframe\">\n",
       "  <thead>\n",
       "    <tr style=\"text-align: right;\">\n",
       "      <th></th>\n",
       "      <th>contig_id</th>\n",
       "      <th>checkv_quality</th>\n",
       "    </tr>\n",
       "  </thead>\n",
       "  <tbody>\n",
       "    <tr>\n",
       "      <th>0</th>\n",
       "      <td>HS.02_5364||0_partial</td>\n",
       "      <td>Medium-quality</td>\n",
       "    </tr>\n",
       "    <tr>\n",
       "      <th>1</th>\n",
       "      <td>HS.02_205914||0_partial</td>\n",
       "      <td>Low-quality</td>\n",
       "    </tr>\n",
       "    <tr>\n",
       "      <th>2</th>\n",
       "      <td>HS.02_229059||0_partial</td>\n",
       "      <td>High-quality</td>\n",
       "    </tr>\n",
       "    <tr>\n",
       "      <th>3</th>\n",
       "      <td>HS.02_452377||0_partial</td>\n",
       "      <td>High-quality</td>\n",
       "    </tr>\n",
       "    <tr>\n",
       "      <th>4</th>\n",
       "      <td>HS.02_577585||0_partial</td>\n",
       "      <td>Low-quality</td>\n",
       "    </tr>\n",
       "    <tr>\n",
       "      <th>...</th>\n",
       "      <td>...</td>\n",
       "      <td>...</td>\n",
       "    </tr>\n",
       "    <tr>\n",
       "      <th>397175</th>\n",
       "      <td>SRR8397886_139730||full_1</td>\n",
       "      <td>Low-quality</td>\n",
       "    </tr>\n",
       "    <tr>\n",
       "      <th>397176</th>\n",
       "      <td>SRR8397886_180033||full_1</td>\n",
       "      <td>Low-quality</td>\n",
       "    </tr>\n",
       "    <tr>\n",
       "      <th>397177</th>\n",
       "      <td>SRR8397886_185598||full_1</td>\n",
       "      <td>Low-quality</td>\n",
       "    </tr>\n",
       "    <tr>\n",
       "      <th>397178</th>\n",
       "      <td>SRR8397886_212652||full_1</td>\n",
       "      <td>Low-quality</td>\n",
       "    </tr>\n",
       "    <tr>\n",
       "      <th>397179</th>\n",
       "      <td>SRR8397886_219956||full_1</td>\n",
       "      <td>Low-quality</td>\n",
       "    </tr>\n",
       "  </tbody>\n",
       "</table>\n",
       "<p>397180 rows × 2 columns</p>\n",
       "</div>"
      ],
      "text/plain": [
       "                        contig_id  checkv_quality\n",
       "0           HS.02_5364||0_partial  Medium-quality\n",
       "1         HS.02_205914||0_partial     Low-quality\n",
       "2         HS.02_229059||0_partial    High-quality\n",
       "3         HS.02_452377||0_partial    High-quality\n",
       "4         HS.02_577585||0_partial     Low-quality\n",
       "...                           ...             ...\n",
       "397175  SRR8397886_139730||full_1     Low-quality\n",
       "397176  SRR8397886_180033||full_1     Low-quality\n",
       "397177  SRR8397886_185598||full_1     Low-quality\n",
       "397178  SRR8397886_212652||full_1     Low-quality\n",
       "397179  SRR8397886_219956||full_1     Low-quality\n",
       "\n",
       "[397180 rows x 2 columns]"
      ]
     },
     "execution_count": 37,
     "metadata": {},
     "output_type": "execute_result"
    }
   ],
   "source": [
    "checkv"
   ]
  },
  {
   "cell_type": "code",
   "execution_count": 38,
   "id": "f725c323",
   "metadata": {},
   "outputs": [],
   "source": [
    "quality_sum = pd.DataFrame(checkv.groupby('checkv_quality').checkv_quality.count())"
   ]
  },
  {
   "cell_type": "code",
   "execution_count": 39,
   "id": "07618c6c",
   "metadata": {},
   "outputs": [],
   "source": [
    "quality_sum.rename(columns={'checkv_quality': 'counts'}, inplace = True)"
   ]
  },
  {
   "cell_type": "code",
   "execution_count": 40,
   "id": "ca97c180",
   "metadata": {},
   "outputs": [],
   "source": [
    "quality_sum.reset_index(inplace = True)"
   ]
  },
  {
   "cell_type": "code",
   "execution_count": 41,
   "id": "53c83279",
   "metadata": {},
   "outputs": [
    {
     "data": {
      "text/html": [
       "<div>\n",
       "<style scoped>\n",
       "    .dataframe tbody tr th:only-of-type {\n",
       "        vertical-align: middle;\n",
       "    }\n",
       "\n",
       "    .dataframe tbody tr th {\n",
       "        vertical-align: top;\n",
       "    }\n",
       "\n",
       "    .dataframe thead th {\n",
       "        text-align: right;\n",
       "    }\n",
       "</style>\n",
       "<table border=\"1\" class=\"dataframe\">\n",
       "  <thead>\n",
       "    <tr style=\"text-align: right;\">\n",
       "      <th></th>\n",
       "      <th>checkv_quality</th>\n",
       "      <th>counts</th>\n",
       "    </tr>\n",
       "  </thead>\n",
       "  <tbody>\n",
       "    <tr>\n",
       "      <th>0</th>\n",
       "      <td>Complete</td>\n",
       "      <td>4400</td>\n",
       "    </tr>\n",
       "    <tr>\n",
       "      <th>1</th>\n",
       "      <td>High-quality</td>\n",
       "      <td>4396</td>\n",
       "    </tr>\n",
       "    <tr>\n",
       "      <th>2</th>\n",
       "      <td>Low-quality</td>\n",
       "      <td>355193</td>\n",
       "    </tr>\n",
       "    <tr>\n",
       "      <th>3</th>\n",
       "      <td>Medium-quality</td>\n",
       "      <td>32942</td>\n",
       "    </tr>\n",
       "    <tr>\n",
       "      <th>4</th>\n",
       "      <td>Not-determined</td>\n",
       "      <td>249</td>\n",
       "    </tr>\n",
       "  </tbody>\n",
       "</table>\n",
       "</div>"
      ],
      "text/plain": [
       "   checkv_quality  counts\n",
       "0        Complete    4400\n",
       "1    High-quality    4396\n",
       "2     Low-quality  355193\n",
       "3  Medium-quality   32942\n",
       "4  Not-determined     249"
      ]
     },
     "execution_count": 41,
     "metadata": {},
     "output_type": "execute_result"
    }
   ],
   "source": [
    "quality_sum"
   ]
  },
  {
   "cell_type": "code",
   "execution_count": 42,
   "id": "4908eca4",
   "metadata": {},
   "outputs": [],
   "source": [
    "quality_sum.to_csv('/fs/ess/PAS0439/MING/virome/checkv_trimmed_for_dowmstream/vOTU/votu_checkv_quality.tsv', sep = '\\t', index = None)"
   ]
  },
  {
   "cell_type": "code",
   "execution_count": null,
   "id": "8d093c37",
   "metadata": {},
   "outputs": [],
   "source": []
  }
 ],
 "metadata": {
  "kernelspec": {
   "display_name": "MYENV [/fs/ess/PAS0439/MING/conda/MYENV]",
   "language": "python",
   "name": "conda_myenv"
  },
  "language_info": {
   "codemirror_mode": {
    "name": "ipython",
    "version": 3
   },
   "file_extension": ".py",
   "mimetype": "text/x-python",
   "name": "python",
   "nbconvert_exporter": "python",
   "pygments_lexer": "ipython3",
   "version": "3.10.4"
  }
 },
 "nbformat": 4,
 "nbformat_minor": 5
}
