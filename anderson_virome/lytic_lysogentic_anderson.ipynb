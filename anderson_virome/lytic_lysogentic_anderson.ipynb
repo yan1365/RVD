{
 "cells": [
  {
   "cell_type": "code",
   "execution_count": 2,
   "id": "858b19b0",
   "metadata": {},
   "outputs": [],
   "source": [
    "import os\n",
    "import pandas as pd\n",
    "from Bio import SeqIO\n",
    "import glob"
   ]
  },
  {
   "cell_type": "code",
   "execution_count": 3,
   "id": "35faa42a",
   "metadata": {},
   "outputs": [],
   "source": [
    "os.chdir(\"/fs/scratch/PAS0439/Ming/databases/anderson_2017_rumen_virome\")"
   ]
  },
  {
   "cell_type": "code",
   "execution_count": 4,
   "id": "3d615343",
   "metadata": {},
   "outputs": [],
   "source": [
    "vibrant_enriched = pd.read_csv(\"vibrant_out_enriched_only/VIBRANT_anderson_2017_virome_enriched/VIBRANT_results_anderson_2017_virome_enriched/VIBRANT_genome_quality_anderson_2017_virome_enriched.tsv\", sep = \"\\t\")\n",
    "enriched_lyso = vibrant_enriched.query('type == \"lysogenic\"')[\"scaffold\"].to_list()"
   ]
  },
  {
   "cell_type": "code",
   "execution_count": 5,
   "id": "1aa5d938",
   "metadata": {},
   "outputs": [],
   "source": [
    "vibrant_metagenome = pd.read_csv(\"vibrant_out_microbial_only/VIBRANT_anderson_2017_virome_microbial/VIBRANT_results_anderson_2017_virome_microbial/VIBRANT_genome_quality_anderson_2017_virome_microbial.tsv\", sep = \"\\t\")\n",
    "metagenome_lyso = vibrant_metagenome.query('type == \"lysogenic\"')[\"scaffold\"].to_list()"
   ]
  },
  {
   "cell_type": "code",
   "execution_count": 6,
   "id": "6966d1fe",
   "metadata": {},
   "outputs": [],
   "source": [
    "enriched_sample = glob.glob(\"vs2_keep1_2/*_keep1_2.fa\")"
   ]
  },
  {
   "cell_type": "code",
   "execution_count": 7,
   "id": "0dc895e6",
   "metadata": {},
   "outputs": [],
   "source": [
    "metagenome_sample = glob.glob(\"vs2_keep1_2/microbial/*_keep1_2.fa\")"
   ]
  },
  {
   "cell_type": "code",
   "execution_count": 8,
   "id": "dac2d6ce",
   "metadata": {},
   "outputs": [],
   "source": [
    "enriched_sample_dir = {}\n",
    "for sample in enriched_sample:\n",
    "    vcontigs = []\n",
    "    id = sample.split('/')[1].split('_')[0]\n",
    "    \n",
    "    records = SeqIO.parse(sample, \"fasta\")\n",
    "    for record in records:\n",
    "        vcontigs.append(record.name)\n",
    "    \n",
    "    enriched_sample_dir[id] = vcontigs"
   ]
  },
  {
   "cell_type": "code",
   "execution_count": 9,
   "id": "a111851b",
   "metadata": {},
   "outputs": [],
   "source": [
    "metagenome_sample_dir = {}\n",
    "for sample in metagenome_sample:\n",
    "    vcontigs = []\n",
    "    id = sample.split('/')[2].split('_')[0]\n",
    "    \n",
    "    records = SeqIO.parse(sample, \"fasta\")\n",
    "    for record in records:\n",
    "        vcontigs.append(record.name)\n",
    "    \n",
    "    metagenome_sample_dir[id] = vcontigs"
   ]
  },
  {
   "cell_type": "code",
   "execution_count": 10,
   "id": "bdb13ed4",
   "metadata": {},
   "outputs": [],
   "source": [
    "metagenome_lyso_dic = {}\n",
    "for key in metagenome_sample_dir.keys():\n",
    "    lyso = 0\n",
    "    ncontigs = len(metagenome_sample_dir[key])\n",
    "    for f in metagenome_sample_dir[key]:\n",
    "        if f in metagenome_lyso:\n",
    "            lyso += 1\n",
    "    \n",
    "    metagenome_lyso_dic[key] = {\"lysogenic\": lyso, \"total\" : ncontigs, \"ratio\":(lyso/(ncontigs + 0.000001))}\n",
    "    "
   ]
  },
  {
   "cell_type": "code",
   "execution_count": 11,
   "id": "2e21229c",
   "metadata": {},
   "outputs": [
    {
     "data": {
      "text/plain": [
       "{'SRR3621211': {'lysogenic': 2, 'total': 24, 'ratio': 0.08333332986111125},\n",
       " 'SRR3621243': {'lysogenic': 3, 'total': 50, 'ratio': 0.05999999880000003},\n",
       " 'SRR3621246': {'lysogenic': 1, 'total': 6, 'ratio': 0.16666663888889352},\n",
       " 'SRR3621247': {'lysogenic': 4, 'total': 33, 'ratio': 0.12121211753902675},\n",
       " 'SRR3621219': {'lysogenic': 0, 'total': 35, 'ratio': 0.0},\n",
       " 'SRR3621210': {'lysogenic': 0, 'total': 14, 'ratio': 0.0},\n",
       " 'SRR3621217': {'lysogenic': 2, 'total': 11, 'ratio': 0.1818181652892577},\n",
       " 'SRR3621214': {'lysogenic': 1, 'total': 24, 'ratio': 0.041666664930555625},\n",
       " 'SRR3621209': {'lysogenic': 5, 'total': 151, 'ratio': 0.03311258256216833},\n",
       " 'SRR3621215': {'lysogenic': 1, 'total': 12, 'ratio': 0.08333332638888948},\n",
       " 'SRR3621245': {'lysogenic': 1, 'total': 7, 'ratio': 0.1428571224489825},\n",
       " 'SRR3621249': {'lysogenic': 0, 'total': 2, 'ratio': 0.0},\n",
       " 'SRR3621213': {'lysogenic': 4, 'total': 34, 'ratio': 0.11764705536332191},\n",
       " 'SRR3621218': {'lysogenic': 0, 'total': 2, 'ratio': 0.0},\n",
       " 'SRR3621221': {'lysogenic': 1, 'total': 15, 'ratio': 0.06666666222222252},\n",
       " 'SRR3621248': {'lysogenic': 6, 'total': 142, 'ratio': 0.04225352082920056},\n",
       " 'SRR3621220': {'lysogenic': 0, 'total': 0, 'ratio': 0.0},\n",
       " 'SRR3621216': {'lysogenic': 1, 'total': 23, 'ratio': 0.04347825897920613},\n",
       " 'SRR3621212': {'lysogenic': 0, 'total': 10, 'ratio': 0.0}}"
      ]
     },
     "execution_count": 11,
     "metadata": {},
     "output_type": "execute_result"
    }
   ],
   "source": [
    "metagenome_lyso_dic"
   ]
  },
  {
   "cell_type": "code",
   "execution_count": 12,
   "id": "282b6905",
   "metadata": {},
   "outputs": [],
   "source": [
    "enriched_lyso_dic = {}\n",
    "for key in enriched_sample_dir.keys():\n",
    "    lyso = 0\n",
    "    ncontigs = len(enriched_sample_dir[key])\n",
    "    for f in enriched_sample_dir[key]:\n",
    "        if f in enriched_lyso:\n",
    "            lyso += 1\n",
    "    \n",
    "    enriched_lyso_dic[key] = {\"lysogenic\": lyso, \"total\" : ncontigs, \"ratio\":(lyso/(ncontigs + 0.000001))}\n",
    "    "
   ]
  },
  {
   "cell_type": "code",
   "execution_count": 13,
   "id": "9713d1f2",
   "metadata": {},
   "outputs": [
    {
     "data": {
      "text/plain": [
       "{'SRR3621228': {'lysogenic': 5, 'total': 187, 'ratio': 0.026737967771454717},\n",
       " 'SRR3621242': {'lysogenic': 26, 'total': 360, 'ratio': 0.07222222202160494},\n",
       " 'SRR3621237': {'lysogenic': 0, 'total': 21, 'ratio': 0.0},\n",
       " 'SRR3621239': {'lysogenic': 110, 'total': 909, 'ratio': 0.1210121010769944},\n",
       " 'SRR3621229': {'lysogenic': 8, 'total': 101, 'ratio': 0.07920792000784238},\n",
       " 'SRR3621244': {'lysogenic': 37, 'total': 526, 'ratio': 0.07034220518946349},\n",
       " 'SRR3621223': {'lysogenic': 0, 'total': 1, 'ratio': 0.0},\n",
       " 'SRR3621231': {'lysogenic': 6, 'total': 186, 'ratio': 0.03225806434269858},\n",
       " 'SRR3621227': {'lysogenic': 2, 'total': 70, 'ratio': 0.028571428163265314},\n",
       " 'SRR3621234': {'lysogenic': 2, 'total': 72, 'ratio': 0.027777777391975313},\n",
       " 'SRR3621224': {'lysogenic': 12, 'total': 282, 'ratio': 0.04255319133846386},\n",
       " 'SRR3621230': {'lysogenic': 16, 'total': 175, 'ratio': 0.09142857090612246},\n",
       " 'SRR3621238': {'lysogenic': 71, 'total': 841, 'ratio': 0.0844233054882006},\n",
       " 'SRR3621233': {'lysogenic': 39, 'total': 465, 'ratio': 0.08387096756156781},\n",
       " 'SRR3621241': {'lysogenic': 67, 'total': 835, 'ratio': 0.0802395208619886},\n",
       " 'SRR3621225': {'lysogenic': 18, 'total': 460, 'ratio': 0.039130434697542536},\n",
       " 'SRR3621235': {'lysogenic': 8, 'total': 213, 'ratio': 0.03755868526967753},\n",
       " 'SRR3621226': {'lysogenic': 18, 'total': 286, 'ratio': 0.06293706271700328},\n",
       " 'SRR3621240': {'lysogenic': 28, 'total': 572, 'ratio': 0.04895104886547019},\n",
       " 'SRR3621222': {'lysogenic': 11, 'total': 200, 'ratio': 0.054999999725000005},\n",
       " 'SRR3621236': {'lysogenic': 5, 'total': 144, 'ratio': 0.03472222198109568}}"
      ]
     },
     "execution_count": 13,
     "metadata": {},
     "output_type": "execute_result"
    }
   ],
   "source": [
    "enriched_lyso_dic"
   ]
  },
  {
   "cell_type": "code",
   "execution_count": 15,
   "id": "e8ba7063",
   "metadata": {},
   "outputs": [
    {
     "data": {
      "text/plain": [
       "559"
      ]
     },
     "execution_count": 15,
     "metadata": {},
     "output_type": "execute_result"
    }
   ],
   "source": [
    "len(enriched_lyso)"
   ]
  },
  {
   "cell_type": "code",
   "execution_count": 16,
   "id": "209e6533",
   "metadata": {},
   "outputs": [
    {
     "data": {
      "text/plain": [
       "39"
      ]
     },
     "execution_count": 16,
     "metadata": {},
     "output_type": "execute_result"
    }
   ],
   "source": [
    "len(metagenome_lyso)"
   ]
  },
  {
   "cell_type": "code",
   "execution_count": 19,
   "id": "b083b618",
   "metadata": {},
   "outputs": [
    {
     "data": {
      "text/plain": [
       "7017"
      ]
     },
     "execution_count": 19,
     "metadata": {},
     "output_type": "execute_result"
    }
   ],
   "source": [
    "len(vibrant_enriched)"
   ]
  },
  {
   "cell_type": "code",
   "execution_count": 21,
   "id": "b11bebf1",
   "metadata": {},
   "outputs": [
    {
     "data": {
      "text/plain": [
       "594"
      ]
     },
     "execution_count": 21,
     "metadata": {},
     "output_type": "execute_result"
    }
   ],
   "source": [
    "len(vibrant_metagenome)"
   ]
  },
  {
   "cell_type": "code",
   "execution_count": 22,
   "id": "da1d256d",
   "metadata": {},
   "outputs": [
    {
     "data": {
      "text/plain": [
       "0.06565656565656566"
      ]
     },
     "execution_count": 22,
     "metadata": {},
     "output_type": "execute_result"
    }
   ],
   "source": [
    "len(metagenome_lyso)/len(vibrant_metagenome)"
   ]
  },
  {
   "cell_type": "code",
   "execution_count": 23,
   "id": "7fe84e97",
   "metadata": {},
   "outputs": [
    {
     "data": {
      "text/plain": [
       "0.07966367393472994"
      ]
     },
     "execution_count": 23,
     "metadata": {},
     "output_type": "execute_result"
    }
   ],
   "source": [
    "len(enriched_lyso)/len(vibrant_enriched)"
   ]
  },
  {
   "cell_type": "code",
   "execution_count": null,
   "id": "33ed1734",
   "metadata": {},
   "outputs": [],
   "source": []
  }
 ],
 "metadata": {
  "kernelspec": {
   "display_name": "MYENV [/fs/ess/PAS0439/MING/conda/MYENV]",
   "language": "python",
   "name": "conda_myenv"
  },
  "language_info": {
   "codemirror_mode": {
    "name": "ipython",
    "version": 3
   },
   "file_extension": ".py",
   "mimetype": "text/x-python",
   "name": "python",
   "nbconvert_exporter": "python",
   "pygments_lexer": "ipython3",
   "version": "3.10.4"
  }
 },
 "nbformat": 4,
 "nbformat_minor": 5
}
