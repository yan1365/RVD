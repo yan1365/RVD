{
 "cells": [
  {
   "cell_type": "code",
   "execution_count": 1,
   "id": "45142d06",
   "metadata": {},
   "outputs": [],
   "source": [
    "import os\n",
    "import pandas as pd\n",
    "import re\n",
    "from Bio import SeqIO"
   ]
  },
  {
   "cell_type": "code",
   "execution_count": 2,
   "id": "d78ec63b",
   "metadata": {},
   "outputs": [],
   "source": [
    "os.chdir(\"/fs/scratch/PAS0439/Ming/databases/anderson_2017_rumen_virome\")"
   ]
  },
  {
   "cell_type": "code",
   "execution_count": 3,
   "id": "5cdd7747",
   "metadata": {},
   "outputs": [],
   "source": [
    "metagenome_votus = []\n",
    "records = SeqIO.parse(\"anderson_2017_virome_votu_microbial.fa\", \"fasta\")\n",
    "for record in records:\n",
    "    metagenome_votus.append(record.name)"
   ]
  },
  {
   "cell_type": "code",
   "execution_count": 4,
   "id": "b9e48f47",
   "metadata": {},
   "outputs": [],
   "source": [
    "virome_votus = []\n",
    "records = SeqIO.parse(\"anderson_2017_virome_votu_enriched.fa\", \"fasta\")\n",
    "for record in records:\n",
    "    virome_votus.append(record.name)"
   ]
  },
  {
   "cell_type": "code",
   "execution_count": 5,
   "id": "c1b22895",
   "metadata": {},
   "outputs": [],
   "source": [
    "RVD = []\n",
    "records = SeqIO.parse(\"RVD.fa\", \"fasta\")\n",
    "for record in records:\n",
    "    RVD.append(record.name)"
   ]
  },
  {
   "cell_type": "code",
   "execution_count": 12,
   "id": "276716b6",
   "metadata": {},
   "outputs": [],
   "source": [
    "df = pd.read_csv(\"backup/my_clusters_rvd_anderson.tsv\", sep = \"\\t\", header = None, names = [\"repre_votu\", \"votus\"])"
   ]
  },
  {
   "cell_type": "code",
   "execution_count": 13,
   "id": "27827b16",
   "metadata": {},
   "outputs": [],
   "source": [
    "clustered_metagenome_votus = 0\n",
    "clustered_virome_votus = 0\n",
    "tie = 0\n",
    "for index, row in df.iterrows():\n",
    "    votus = row[\"votus\"].split(\",\")\n",
    "    \n",
    "        \n",
    "    if len(votus) == 1:\n",
    "        continue\n",
    "    else:\n",
    "        rvd = 0\n",
    "        microbial = 0\n",
    "        virome = 0\n",
    "        \n",
    "        for f in votus:\n",
    "           \n",
    "            if f in virome_votus:\n",
    "                virome += 1\n",
    "            elif f in metagenome_votus:\n",
    "                microbial += 1\n",
    "            else:\n",
    "                rvd += 1\n",
    "        if rvd == 0:\n",
    "            tie = tie + microbial + virome - 1\n",
    "        else:\n",
    "            clustered_virome_votus += virome\n",
    "            clustered_metagenome_votus += microbial\n",
    "                \n",
    "            \n"
   ]
  },
  {
   "cell_type": "code",
   "execution_count": 14,
   "id": "2ccc3ef9",
   "metadata": {},
   "outputs": [
    {
     "data": {
      "text/plain": [
       "155"
      ]
     },
     "execution_count": 14,
     "metadata": {},
     "output_type": "execute_result"
    }
   ],
   "source": [
    "clustered_metagenome_votus"
   ]
  },
  {
   "cell_type": "code",
   "execution_count": 15,
   "id": "96dba968",
   "metadata": {},
   "outputs": [
    {
     "data": {
      "text/plain": [
       "860"
      ]
     },
     "execution_count": 15,
     "metadata": {},
     "output_type": "execute_result"
    }
   ],
   "source": [
    "clustered_virome_votus"
   ]
  },
  {
   "cell_type": "code",
   "execution_count": 16,
   "id": "ee87e65c",
   "metadata": {},
   "outputs": [
    {
     "data": {
      "text/plain": [
       "0.30214424951267055"
      ]
     },
     "execution_count": 16,
     "metadata": {},
     "output_type": "execute_result"
    }
   ],
   "source": [
    "clustered_metagenome_votus/len(metagenome_votus)"
   ]
  },
  {
   "cell_type": "code",
   "execution_count": 17,
   "id": "bab5d58e",
   "metadata": {},
   "outputs": [
    {
     "data": {
      "text/plain": [
       "0.2049571020019066"
      ]
     },
     "execution_count": 17,
     "metadata": {},
     "output_type": "execute_result"
    }
   ],
   "source": [
    "clustered_virome_votus/len(virome_votus)"
   ]
  },
  {
   "cell_type": "code",
   "execution_count": null,
   "id": "7db3ee52",
   "metadata": {},
   "outputs": [],
   "source": []
  }
 ],
 "metadata": {
  "kernelspec": {
   "display_name": "MYENV [/fs/ess/PAS0439/MING/conda/MYENV]",
   "language": "python",
   "name": "conda_myenv"
  },
  "language_info": {
   "codemirror_mode": {
    "name": "ipython",
    "version": 3
   },
   "file_extension": ".py",
   "mimetype": "text/x-python",
   "name": "python",
   "nbconvert_exporter": "python",
   "pygments_lexer": "ipython3",
   "version": "3.10.4"
  }
 },
 "nbformat": 4,
 "nbformat_minor": 5
}
