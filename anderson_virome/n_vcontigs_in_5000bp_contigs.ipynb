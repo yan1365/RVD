{
 "cells": [
  {
   "cell_type": "code",
   "execution_count": 14,
   "id": "6ea2bc2d",
   "metadata": {},
   "outputs": [],
   "source": [
    "import os\n",
    "import glob\n",
    "from Bio import SeqIO\n",
    "import re\n",
    "import pandas as pd"
   ]
  },
  {
   "cell_type": "code",
   "execution_count": 2,
   "id": "ec9bdfb8",
   "metadata": {},
   "outputs": [],
   "source": [
    "os.chdir(\"/fs/scratch/PAS0439/Ming/databases/anderson_2017_rumen_virome/assembly\")"
   ]
  },
  {
   "cell_type": "code",
   "execution_count": 3,
   "id": "36f9c971",
   "metadata": {},
   "outputs": [],
   "source": [
    "samples = glob.glob(\"**/*_assembly.fa\", recursive = True)"
   ]
  },
  {
   "cell_type": "code",
   "execution_count": 4,
   "id": "4e69f020",
   "metadata": {},
   "outputs": [],
   "source": [
    "def get_n_5000bp_contigs(x):\n",
    "    contigs_5000bp = 0\n",
    "    records = SeqIO.parse(x, \"fasta\")\n",
    "    for record in records:\n",
    "        if len(record.seq) > 5000:\n",
    "            contigs_5000bp += 1\n",
    "    return contigs_5000bp\n",
    "    "
   ]
  },
  {
   "cell_type": "code",
   "execution_count": 5,
   "id": "64105aea",
   "metadata": {},
   "outputs": [],
   "source": [
    "ncontigs_5000bp_dic = {}\n",
    "for sample in samples:\n",
    "    ID = re.search(r'.*(SRR.*)_assembly.fa', sample).group(1)\n",
    "    ncontigs_5000bp_dic[ID] = get_n_5000bp_contigs(sample)\n",
    "    "
   ]
  },
  {
   "cell_type": "code",
   "execution_count": 6,
   "id": "995aec78",
   "metadata": {},
   "outputs": [],
   "source": [
    "os.chdir(\"../vs2_keep1_2\")"
   ]
  },
  {
   "cell_type": "code",
   "execution_count": 7,
   "id": "abe049b1",
   "metadata": {},
   "outputs": [],
   "source": [
    "samples_vcontigs = glob.glob(\"**/*_keep1_2.fa\", recursive = True)"
   ]
  },
  {
   "cell_type": "code",
   "execution_count": 8,
   "id": "474149b3",
   "metadata": {},
   "outputs": [],
   "source": [
    "def get_n_vcontigs(x):\n",
    "    nvcontigs = 0\n",
    "    records = SeqIO.parse(x, \"fasta\")\n",
    "    for record in records:\n",
    "        nvcontigs += 1\n",
    "    \n",
    "    return nvcontigs\n",
    "    "
   ]
  },
  {
   "cell_type": "code",
   "execution_count": 9,
   "id": "d2072b32",
   "metadata": {},
   "outputs": [],
   "source": [
    "nvcontigs_dic = {}\n",
    "for sample in samples_vcontigs:\n",
    "    ID = re.search(r'.*(SRR.*)_keep1_2.fa', sample).group(1)\n",
    "    nvcontigs_dic[ID] = get_n_vcontigs(sample)"
   ]
  },
  {
   "cell_type": "code",
   "execution_count": 10,
   "id": "23f46fa1",
   "metadata": {},
   "outputs": [],
   "source": [
    "id_list = [re.search(r'.*(SRR.*)_keep1_2.fa', f).group(1) for f in samples_vcontigs]"
   ]
  },
  {
   "cell_type": "code",
   "execution_count": 11,
   "id": "9c4b3cf5",
   "metadata": {},
   "outputs": [],
   "source": [
    "vcontigs_per_5000bpcontigs = {}\n",
    "for id in id_list:\n",
    "    vcontigs_per_5000bpcontigs[id] = nvcontigs_dic[id]/(ncontigs_5000bp_dic[id] + 0.00000001) # prevent divide by zero error\n",
    "        "
   ]
  },
  {
   "cell_type": "code",
   "execution_count": 12,
   "id": "efa2b772",
   "metadata": {},
   "outputs": [
    {
     "data": {
      "text/plain": [
       "{'SRR3621228': 0.8461538461155587,\n",
       " 'SRR3621242': 0.2513966480429372,\n",
       " 'SRR3621237': 0.8749999996354166,\n",
       " 'SRR3621239': 0.7475328947306947,\n",
       " 'SRR3621229': 0.7593984961835039,\n",
       " 'SRR3621244': 0.5004757373881973,\n",
       " 'SRR3621223': 0.9999999900000002,\n",
       " 'SRR3621231': 0.8532110091351738,\n",
       " 'SRR3621227': 0.8641975307575065,\n",
       " 'SRR3621234': 0.7346938774760516,\n",
       " 'SRR3621224': 0.8623853210745448,\n",
       " 'SRR3621230': 0.8706467661258385,\n",
       " 'SRR3621238': 0.72687986170504,\n",
       " 'SRR3621233': 0.6023316062098143,\n",
       " 'SRR3621241': 0.4863133372132422,\n",
       " 'SRR3621225': 0.6543385490660834,\n",
       " 'SRR3621235': 0.8223938223620697,\n",
       " 'SRR3621226': 0.7647058823324945,\n",
       " 'SRR3621240': 0.7900552486078721,\n",
       " 'SRR3621222': 0.8583690986756064,\n",
       " 'SRR3621236': 0.8044692736980743,\n",
       " 'SRR3621211': 0.01678321678309942,\n",
       " 'SRR3621243': 0.15105740180812516,\n",
       " 'SRR3621246': 0.009508716323145662,\n",
       " 'SRR3621247': 0.02240325865565239,\n",
       " 'SRR3621219': 0.03323836657138426,\n",
       " 'SRR3621210': 0.11382113820212837,\n",
       " 'SRR3621217': 0.0159420289852762,\n",
       " 'SRR3621214': 0.4999999998958333,\n",
       " 'SRR3621209': 0.16852678571240484,\n",
       " 'SRR3621215': 0.08888888888230452,\n",
       " 'SRR3621245': 0.01298701298677204,\n",
       " 'SRR3621249': 0.07142857140306122,\n",
       " 'SRR3621213': 0.05052005943461337,\n",
       " 'SRR3621218': 0.016393442621607097,\n",
       " 'SRR3621221': 0.029126213591667453,\n",
       " 'SRR3621248': 0.08227114716058939,\n",
       " 'SRR3621220': 0.0,\n",
       " 'SRR3621216': 0.015498652291000684,\n",
       " 'SRR3621212': 0.08695652173156901}"
      ]
     },
     "execution_count": 12,
     "metadata": {},
     "output_type": "execute_result"
    }
   ],
   "source": [
    "vcontigs_per_5000bpcontigs"
   ]
  },
  {
   "cell_type": "code",
   "execution_count": 22,
   "id": "a4a2d0ac",
   "metadata": {},
   "outputs": [],
   "source": [
    "df = pd.DataFrame.from_dict(vcontigs_per_5000bpcontigs, orient = \"index\", columns = [\"vcontigs_ratio\"]).reset_index()"
   ]
  },
  {
   "cell_type": "code",
   "execution_count": 26,
   "id": "67da2178",
   "metadata": {},
   "outputs": [],
   "source": [
    "df.rename(columns = {\"index\": \"sample\"}).to_csv(\"/fs/scratch/PAS0439/Ming/databases/anderson_2017_rumen_virome/enriched_vs_metagenome_nvcontigs.tsv\", sep = \"\\t\")"
   ]
  },
  {
   "cell_type": "code",
   "execution_count": null,
   "id": "06dae1fd",
   "metadata": {},
   "outputs": [],
   "source": []
  }
 ],
 "metadata": {
  "kernelspec": {
   "display_name": "MYENV [/fs/ess/PAS0439/MING/conda/MYENV]",
   "language": "python",
   "name": "conda_myenv"
  },
  "language_info": {
   "codemirror_mode": {
    "name": "ipython",
    "version": 3
   },
   "file_extension": ".py",
   "mimetype": "text/x-python",
   "name": "python",
   "nbconvert_exporter": "python",
   "pygments_lexer": "ipython3",
   "version": "3.10.4"
  }
 },
 "nbformat": 4,
 "nbformat_minor": 5
}
