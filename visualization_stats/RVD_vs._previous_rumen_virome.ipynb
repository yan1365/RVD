{
 "cells": [
  {
   "cell_type": "code",
   "execution_count": 1,
   "id": "76e23dbf",
   "metadata": {},
   "outputs": [],
   "source": [
    "import pandas as pd\n",
    "import os\n",
    "from Bio import SeqIO\n",
    "import glob"
   ]
  },
  {
   "cell_type": "code",
   "execution_count": 2,
   "id": "bd2e1087",
   "metadata": {},
   "outputs": [],
   "source": [
    "os.chdir(\"/fs/scratch/PAS0439/Ming/databases/anderson_2017_rumen_virome/\")"
   ]
  },
  {
   "cell_type": "code",
   "execution_count": 3,
   "id": "57f275ff",
   "metadata": {},
   "outputs": [],
   "source": [
    "rvd = []\n",
    "records = SeqIO.parse(\"/fs/ess/PAS0439/MING/virome/checkv_trimmed_for_dowmstream/RVD_resources/RVD.fa\", \"fasta\")\n",
    "for record in records:\n",
    "    rvd.append(record.id)"
   ]
  },
  {
   "cell_type": "code",
   "execution_count": 4,
   "id": "2a4535bc",
   "metadata": {},
   "outputs": [],
   "source": [
    "mapping_out = glob.glob(\"mapping_results/*.txt\")"
   ]
  },
  {
   "cell_type": "code",
   "execution_count": 5,
   "id": "e434aabc",
   "metadata": {},
   "outputs": [],
   "source": [
    "mapped = {}\n",
    "for f in mapping_out:\n",
    "    sample = f.split(\"/\")[1].split(\".\")[0]\n",
    "    df = pd.read_csv(f, sep = \"\\t\")\n",
    "    df = df.set_axis([\"votu\", \"mapping\"], axis = 1)\n",
    "    votu = list(df.query('votu in @rvd').query('mapping > 0').votu)\n",
    "    mapped[sample] = votu"
   ]
  },
  {
   "cell_type": "code",
   "execution_count": 6,
   "id": "d0e2072e",
   "metadata": {},
   "outputs": [],
   "source": [
    "total = set()\n",
    "for f in mapped.values():\n",
    "    total = total|set(f)\n",
    "    "
   ]
  },
  {
   "cell_type": "code",
   "execution_count": 7,
   "id": "68948375",
   "metadata": {},
   "outputs": [
    {
     "data": {
      "text/plain": [
       "706"
      ]
     },
     "execution_count": 7,
     "metadata": {},
     "output_type": "execute_result"
    }
   ],
   "source": [
    "len(total)"
   ]
  },
  {
   "cell_type": "code",
   "execution_count": 8,
   "id": "1a525589",
   "metadata": {},
   "outputs": [],
   "source": [
    "host = pd.read_csv(\"/fs/ess/PAS0439/MING/virome/checkv_trimmed_for_dowmstream/RVD_resources/host_match.tsv\", sep = \"\\t\")"
   ]
  },
  {
   "cell_type": "code",
   "execution_count": 9,
   "id": "decd95c2",
   "metadata": {},
   "outputs": [
    {
     "data": {
      "text/plain": [
       "103"
      ]
     },
     "execution_count": 9,
     "metadata": {},
     "output_type": "execute_result"
    }
   ],
   "source": [
    "len(set(host.query('sseqid in @total').sseqid))"
   ]
  },
  {
   "cell_type": "code",
   "execution_count": 10,
   "id": "106f49ae",
   "metadata": {},
   "outputs": [
    {
     "data": {
      "text/html": [
       "<div>\n",
       "<style scoped>\n",
       "    .dataframe tbody tr th:only-of-type {\n",
       "        vertical-align: middle;\n",
       "    }\n",
       "\n",
       "    .dataframe tbody tr th {\n",
       "        vertical-align: top;\n",
       "    }\n",
       "\n",
       "    .dataframe thead th {\n",
       "        text-align: right;\n",
       "    }\n",
       "</style>\n",
       "<table border=\"1\" class=\"dataframe\">\n",
       "  <thead>\n",
       "    <tr style=\"text-align: right;\">\n",
       "      <th></th>\n",
       "      <th>qseqid</th>\n",
       "      <th>sseqid</th>\n",
       "      <th>domain</th>\n",
       "      <th>phylum</th>\n",
       "      <th>class</th>\n",
       "      <th>order</th>\n",
       "      <th>family</th>\n",
       "      <th>genus</th>\n",
       "      <th>species</th>\n",
       "      <th>source</th>\n",
       "    </tr>\n",
       "  </thead>\n",
       "  <tbody>\n",
       "    <tr>\n",
       "      <th>6241</th>\n",
       "      <td>LOPS01000033.1</td>\n",
       "      <td>ERR3201411_88911||full</td>\n",
       "      <td>d__Archaea</td>\n",
       "      <td>p__Thermoplasmatota</td>\n",
       "      <td>c__Thermoplasmata</td>\n",
       "      <td>o__Methanomassiliicoccales</td>\n",
       "      <td>f__Methanomethylophilaceae</td>\n",
       "      <td>g__Methanomethylophilus</td>\n",
       "      <td>s__Methanomethylophilus sp001481295</td>\n",
       "      <td>spacer</td>\n",
       "    </tr>\n",
       "    <tr>\n",
       "      <th>6242</th>\n",
       "      <td>LOPS01000033.1</td>\n",
       "      <td>ERR3275136_16345||full</td>\n",
       "      <td>d__Archaea</td>\n",
       "      <td>p__Thermoplasmatota</td>\n",
       "      <td>c__Thermoplasmata</td>\n",
       "      <td>o__Methanomassiliicoccales</td>\n",
       "      <td>f__Methanomethylophilaceae</td>\n",
       "      <td>g__Methanomethylophilus</td>\n",
       "      <td>s__Methanomethylophilus sp001481295</td>\n",
       "      <td>spacer</td>\n",
       "    </tr>\n",
       "    <tr>\n",
       "      <th>81159</th>\n",
       "      <td>FMID01000070.1</td>\n",
       "      <td>ERR4297103_120081||full</td>\n",
       "      <td>d__Archaea</td>\n",
       "      <td>p__Halobacteriota</td>\n",
       "      <td>c__Methanomicrobia</td>\n",
       "      <td>o__Methanomicrobiales</td>\n",
       "      <td>f__Methanoculleaceae</td>\n",
       "      <td>g__Methanoculleus</td>\n",
       "      <td>s__Methanoculleus chikugoensis_A</td>\n",
       "      <td>prophage</td>\n",
       "    </tr>\n",
       "    <tr>\n",
       "      <th>83114</th>\n",
       "      <td>CAJHZY010000045.1</td>\n",
       "      <td>ERR4297103_120081||full</td>\n",
       "      <td>d__Archaea</td>\n",
       "      <td>p__Halobacteriota</td>\n",
       "      <td>c__Methanosarcinia</td>\n",
       "      <td>o__Methanosarcinales</td>\n",
       "      <td>f__EX4572-44</td>\n",
       "      <td>g__Ethanoperedens</td>\n",
       "      <td>s__</td>\n",
       "      <td>prophage</td>\n",
       "    </tr>\n",
       "  </tbody>\n",
       "</table>\n",
       "</div>"
      ],
      "text/plain": [
       "                  qseqid                   sseqid      domain  \\\n",
       "6241      LOPS01000033.1   ERR3201411_88911||full  d__Archaea   \n",
       "6242      LOPS01000033.1   ERR3275136_16345||full  d__Archaea   \n",
       "81159     FMID01000070.1  ERR4297103_120081||full  d__Archaea   \n",
       "83114  CAJHZY010000045.1  ERR4297103_120081||full  d__Archaea   \n",
       "\n",
       "                    phylum               class                       order  \\\n",
       "6241   p__Thermoplasmatota   c__Thermoplasmata  o__Methanomassiliicoccales   \n",
       "6242   p__Thermoplasmatota   c__Thermoplasmata  o__Methanomassiliicoccales   \n",
       "81159    p__Halobacteriota  c__Methanomicrobia       o__Methanomicrobiales   \n",
       "83114    p__Halobacteriota  c__Methanosarcinia        o__Methanosarcinales   \n",
       "\n",
       "                           family                    genus  \\\n",
       "6241   f__Methanomethylophilaceae  g__Methanomethylophilus   \n",
       "6242   f__Methanomethylophilaceae  g__Methanomethylophilus   \n",
       "81159        f__Methanoculleaceae        g__Methanoculleus   \n",
       "83114                f__EX4572-44        g__Ethanoperedens   \n",
       "\n",
       "                                   species    source  \n",
       "6241   s__Methanomethylophilus sp001481295    spacer  \n",
       "6242   s__Methanomethylophilus sp001481295    spacer  \n",
       "81159     s__Methanoculleus chikugoensis_A  prophage  \n",
       "83114                                  s__  prophage  "
      ]
     },
     "execution_count": 10,
     "metadata": {},
     "output_type": "execute_result"
    }
   ],
   "source": [
    "host.query('sseqid in @total').query('domain == \"d__Archaea\"')"
   ]
  },
  {
   "cell_type": "code",
   "execution_count": 11,
   "id": "1aa6fd3a",
   "metadata": {},
   "outputs": [],
   "source": [
    "taxa = pd.read_csv(\"/fs/ess/PAS0439/MING/virome/checkv_trimmed_for_dowmstream/taxonomy/output/votu_taxa_with_crAss.tsv\", sep = \"\\t\")"
   ]
  },
  {
   "cell_type": "code",
   "execution_count": 12,
   "id": "5c292932",
   "metadata": {},
   "outputs": [
    {
     "data": {
      "text/html": [
       "<div>\n",
       "<style scoped>\n",
       "    .dataframe tbody tr th:only-of-type {\n",
       "        vertical-align: middle;\n",
       "    }\n",
       "\n",
       "    .dataframe tbody tr th {\n",
       "        vertical-align: top;\n",
       "    }\n",
       "\n",
       "    .dataframe thead th {\n",
       "        text-align: right;\n",
       "    }\n",
       "</style>\n",
       "<table border=\"1\" class=\"dataframe\">\n",
       "  <thead>\n",
       "    <tr style=\"text-align: right;\">\n",
       "      <th></th>\n",
       "      <th>votu</th>\n",
       "      <th>family</th>\n",
       "    </tr>\n",
       "  </thead>\n",
       "  <tbody>\n",
       "    <tr>\n",
       "      <th>62</th>\n",
       "      <td>ERR3224568_56432||full</td>\n",
       "      <td>Siphoviridae</td>\n",
       "    </tr>\n",
       "    <tr>\n",
       "      <th>548</th>\n",
       "      <td>SRR4435556_164154||full</td>\n",
       "      <td>Myoviridae</td>\n",
       "    </tr>\n",
       "    <tr>\n",
       "      <th>894</th>\n",
       "      <td>SRR8404214_259513||full</td>\n",
       "      <td>Podoviridae</td>\n",
       "    </tr>\n",
       "    <tr>\n",
       "      <th>1055</th>\n",
       "      <td>ERR3275136_203708||full</td>\n",
       "      <td>Siphoviridae</td>\n",
       "    </tr>\n",
       "    <tr>\n",
       "      <th>1319</th>\n",
       "      <td>SRR8404214_113355||full</td>\n",
       "      <td>Myoviridae</td>\n",
       "    </tr>\n",
       "    <tr>\n",
       "      <th>...</th>\n",
       "      <td>...</td>\n",
       "      <td>...</td>\n",
       "    </tr>\n",
       "    <tr>\n",
       "      <th>366767</th>\n",
       "      <td>SRR873603_2777387||full</td>\n",
       "      <td>Myoviridae</td>\n",
       "    </tr>\n",
       "    <tr>\n",
       "      <th>374132</th>\n",
       "      <td>SRR873608_3844218||full</td>\n",
       "      <td>Siphoviridae</td>\n",
       "    </tr>\n",
       "    <tr>\n",
       "      <th>383998</th>\n",
       "      <td>SRR948132_83559||full</td>\n",
       "      <td>Siphoviridae</td>\n",
       "    </tr>\n",
       "    <tr>\n",
       "      <th>384015</th>\n",
       "      <td>SRR948136_1366||full</td>\n",
       "      <td>Siphoviridae</td>\n",
       "    </tr>\n",
       "    <tr>\n",
       "      <th>384048</th>\n",
       "      <td>SRR948137_137921||full</td>\n",
       "      <td>Siphoviridae</td>\n",
       "    </tr>\n",
       "  </tbody>\n",
       "</table>\n",
       "<p>99 rows × 2 columns</p>\n",
       "</div>"
      ],
      "text/plain": [
       "                           votu        family\n",
       "62       ERR3224568_56432||full  Siphoviridae\n",
       "548     SRR4435556_164154||full    Myoviridae\n",
       "894     SRR8404214_259513||full   Podoviridae\n",
       "1055    ERR3275136_203708||full  Siphoviridae\n",
       "1319    SRR8404214_113355||full    Myoviridae\n",
       "...                         ...           ...\n",
       "366767  SRR873603_2777387||full    Myoviridae\n",
       "374132  SRR873608_3844218||full  Siphoviridae\n",
       "383998    SRR948132_83559||full  Siphoviridae\n",
       "384015     SRR948136_1366||full  Siphoviridae\n",
       "384048   SRR948137_137921||full  Siphoviridae\n",
       "\n",
       "[99 rows x 2 columns]"
      ]
     },
     "execution_count": 12,
     "metadata": {},
     "output_type": "execute_result"
    }
   ],
   "source": [
    "taxa.query('votu in @total').query('family != \"Unassigned\"')"
   ]
  },
  {
   "cell_type": "code",
   "execution_count": 13,
   "id": "b02ebfcf",
   "metadata": {},
   "outputs": [],
   "source": [
    "genus_taxa = pd.read_csv(\"/fs/ess/PAS0439/MING/virome/checkv_trimmed_for_dowmstream/taxonomy/output/votu_genus_taxa.csv\")"
   ]
  },
  {
   "cell_type": "code",
   "execution_count": 14,
   "id": "ca9c051b",
   "metadata": {},
   "outputs": [
    {
     "data": {
      "text/html": [
       "<div>\n",
       "<style scoped>\n",
       "    .dataframe tbody tr th:only-of-type {\n",
       "        vertical-align: middle;\n",
       "    }\n",
       "\n",
       "    .dataframe tbody tr th {\n",
       "        vertical-align: top;\n",
       "    }\n",
       "\n",
       "    .dataframe thead th {\n",
       "        text-align: right;\n",
       "    }\n",
       "</style>\n",
       "<table border=\"1\" class=\"dataframe\">\n",
       "  <thead>\n",
       "    <tr style=\"text-align: right;\">\n",
       "      <th></th>\n",
       "      <th>votu</th>\n",
       "      <th>order</th>\n",
       "      <th>family</th>\n",
       "      <th>genus</th>\n",
       "    </tr>\n",
       "  </thead>\n",
       "  <tbody>\n",
       "    <tr>\n",
       "      <th>91</th>\n",
       "      <td>SRR4435556_164154||full</td>\n",
       "      <td>Caudovirales</td>\n",
       "      <td>Myoviridae</td>\n",
       "      <td>Eponavirus</td>\n",
       "    </tr>\n",
       "    <tr>\n",
       "      <th>790</th>\n",
       "      <td>SRR948132_89838||full</td>\n",
       "      <td>Caudovirales</td>\n",
       "      <td>Myoviridae</td>\n",
       "      <td>Lagaffevirus</td>\n",
       "    </tr>\n",
       "    <tr>\n",
       "      <th>909</th>\n",
       "      <td>SRR948137_56762||full</td>\n",
       "      <td>Caudovirales</td>\n",
       "      <td>Siphoviridae</td>\n",
       "      <td>C5virus</td>\n",
       "    </tr>\n",
       "    <tr>\n",
       "      <th>984</th>\n",
       "      <td>ERR3275100_1217171||full</td>\n",
       "      <td>Caudovirales</td>\n",
       "      <td>Myoviridae</td>\n",
       "      <td>Taranisvirus</td>\n",
       "    </tr>\n",
       "    <tr>\n",
       "      <th>1431</th>\n",
       "      <td>SRR1267595_532197||full</td>\n",
       "      <td>Caudovirales</td>\n",
       "      <td>Myoviridae</td>\n",
       "      <td>Eponavirus</td>\n",
       "    </tr>\n",
       "    <tr>\n",
       "      <th>1446</th>\n",
       "      <td>SRR4435566_133361||full</td>\n",
       "      <td>Caudovirales</td>\n",
       "      <td>Myoviridae</td>\n",
       "      <td>Lagaffevirus</td>\n",
       "    </tr>\n",
       "  </tbody>\n",
       "</table>\n",
       "</div>"
      ],
      "text/plain": [
       "                          votu         order        family         genus\n",
       "91     SRR4435556_164154||full  Caudovirales    Myoviridae    Eponavirus\n",
       "790      SRR948132_89838||full  Caudovirales    Myoviridae  Lagaffevirus\n",
       "909      SRR948137_56762||full  Caudovirales  Siphoviridae       C5virus\n",
       "984   ERR3275100_1217171||full  Caudovirales    Myoviridae  Taranisvirus\n",
       "1431   SRR1267595_532197||full  Caudovirales    Myoviridae    Eponavirus\n",
       "1446   SRR4435566_133361||full  Caudovirales    Myoviridae  Lagaffevirus"
      ]
     },
     "execution_count": 14,
     "metadata": {},
     "output_type": "execute_result"
    }
   ],
   "source": [
    "genus_taxa.query('votu in @total')"
   ]
  },
  {
   "cell_type": "code",
   "execution_count": 15,
   "id": "5346e70a",
   "metadata": {},
   "outputs": [
    {
     "data": {
      "text/plain": [
       "{'Microviridae', 'Myoviridae', 'Podoviridae', 'Siphoviridae'}"
      ]
     },
     "execution_count": 15,
     "metadata": {},
     "output_type": "execute_result"
    }
   ],
   "source": [
    "set(taxa.query('votu in @total').query('family != \"Unassigned\"').family)"
   ]
  },
  {
   "cell_type": "code",
   "execution_count": 16,
   "id": "322afad1",
   "metadata": {},
   "outputs": [],
   "source": [
    "solden_mapping = glob.glob(\"/fs/scratch/PAS0439/Ming/databases/Solden2018/coverm/*.txt\")"
   ]
  },
  {
   "cell_type": "code",
   "execution_count": 17,
   "id": "ff02b86e",
   "metadata": {},
   "outputs": [],
   "source": [
    "mapped_solden = {}\n",
    "\n",
    "for f in solden_mapping:\n",
    "    sample = f.split(\"/\")[-1].split(\".\")[0]\n",
    "    df = pd.read_csv(f, sep = \"\\t\")\n",
    "    df = df.set_axis([\"votu\", \"mapping\"], axis = 1)\n",
    "    votu = list(df.query('votu in @rvd').query('mapping > 0').votu)\n",
    "    mapped_solden[sample] = votu\n",
    "\n",
    "total_solden = set()\n",
    "for f in mapped_solden.values():\n",
    "    total_solden = total_solden|set(f)\n",
    "    "
   ]
  },
  {
   "cell_type": "code",
   "execution_count": 18,
   "id": "0c135b50",
   "metadata": {},
   "outputs": [
    {
     "data": {
      "text/plain": [
       "789"
      ]
     },
     "execution_count": 18,
     "metadata": {},
     "output_type": "execute_result"
    }
   ],
   "source": [
    "len(total_solden)"
   ]
  },
  {
   "cell_type": "code",
   "execution_count": 19,
   "id": "1cc8012e",
   "metadata": {},
   "outputs": [
    {
     "data": {
      "text/html": [
       "<div>\n",
       "<style scoped>\n",
       "    .dataframe tbody tr th:only-of-type {\n",
       "        vertical-align: middle;\n",
       "    }\n",
       "\n",
       "    .dataframe tbody tr th {\n",
       "        vertical-align: top;\n",
       "    }\n",
       "\n",
       "    .dataframe thead th {\n",
       "        text-align: right;\n",
       "    }\n",
       "</style>\n",
       "<table border=\"1\" class=\"dataframe\">\n",
       "  <thead>\n",
       "    <tr style=\"text-align: right;\">\n",
       "      <th></th>\n",
       "      <th>votu</th>\n",
       "      <th>order</th>\n",
       "      <th>family</th>\n",
       "      <th>genus</th>\n",
       "    </tr>\n",
       "  </thead>\n",
       "  <tbody>\n",
       "    <tr>\n",
       "      <th>314</th>\n",
       "      <td>SRR8387714_954670||full</td>\n",
       "      <td>Caudovirales</td>\n",
       "      <td>Myoviridae</td>\n",
       "      <td>Eponavirus</td>\n",
       "    </tr>\n",
       "    <tr>\n",
       "      <th>502</th>\n",
       "      <td>SRR8397890_12704||full</td>\n",
       "      <td>Caudovirales</td>\n",
       "      <td>Myoviridae</td>\n",
       "      <td>Eponavirus</td>\n",
       "    </tr>\n",
       "    <tr>\n",
       "      <th>506</th>\n",
       "      <td>SRR12529266_2611482||full</td>\n",
       "      <td>Caudovirales</td>\n",
       "      <td>Myoviridae</td>\n",
       "      <td>Toutatisvirus</td>\n",
       "    </tr>\n",
       "    <tr>\n",
       "      <th>984</th>\n",
       "      <td>ERR3275100_1217171||full</td>\n",
       "      <td>Caudovirales</td>\n",
       "      <td>Myoviridae</td>\n",
       "      <td>Taranisvirus</td>\n",
       "    </tr>\n",
       "  </tbody>\n",
       "</table>\n",
       "</div>"
      ],
      "text/plain": [
       "                          votu         order      family          genus\n",
       "314    SRR8387714_954670||full  Caudovirales  Myoviridae     Eponavirus\n",
       "502     SRR8397890_12704||full  Caudovirales  Myoviridae     Eponavirus\n",
       "506  SRR12529266_2611482||full  Caudovirales  Myoviridae  Toutatisvirus\n",
       "984   ERR3275100_1217171||full  Caudovirales  Myoviridae   Taranisvirus"
      ]
     },
     "execution_count": 19,
     "metadata": {},
     "output_type": "execute_result"
    }
   ],
   "source": [
    "genus_taxa.query('votu in @total_solden')"
   ]
  },
  {
   "cell_type": "code",
   "execution_count": 20,
   "id": "8940a26f",
   "metadata": {},
   "outputs": [
    {
     "data": {
      "text/plain": [
       "126"
      ]
     },
     "execution_count": 20,
     "metadata": {},
     "output_type": "execute_result"
    }
   ],
   "source": [
    "len(set(host.query('sseqid in @total_solden').sseqid))"
   ]
  },
  {
   "cell_type": "code",
   "execution_count": 21,
   "id": "0392a939",
   "metadata": {},
   "outputs": [
    {
     "data": {
      "text/plain": [
       "15"
      ]
     },
     "execution_count": 21,
     "metadata": {},
     "output_type": "execute_result"
    }
   ],
   "source": [
    "len(set(host.query('sseqid in @total_solden').phylum))"
   ]
  },
  {
   "cell_type": "code",
   "execution_count": null,
   "id": "fc5c1f66",
   "metadata": {},
   "outputs": [],
   "source": []
  }
 ],
 "metadata": {
  "kernelspec": {
   "display_name": "MYENV [/fs/ess/PAS0439/MING/conda/MYENV]",
   "language": "python",
   "name": "conda_myenv"
  },
  "language_info": {
   "codemirror_mode": {
    "name": "ipython",
    "version": 3
   },
   "file_extension": ".py",
   "mimetype": "text/x-python",
   "name": "python",
   "nbconvert_exporter": "python",
   "pygments_lexer": "ipython3",
   "version": "3.10.9"
  }
 },
 "nbformat": 4,
 "nbformat_minor": 5
}
